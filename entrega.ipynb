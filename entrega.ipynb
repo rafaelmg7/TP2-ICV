{
 "cells": [
  {
   "cell_type": "code",
   "execution_count": 1,
   "id": "a6f4cb3b",
   "metadata": {},
   "outputs": [],
   "source": [
    "import io\n",
    "import os\n",
    "import cv2\n",
    "import numpy as np\n",
    "import matplotlib.pyplot as plt\n",
    "import matplotlib.image as mpimg"
   ]
  },
  {
   "cell_type": "code",
   "execution_count": 2,
   "id": "ef641f06",
   "metadata": {},
   "outputs": [],
   "source": [
    "path = 'dados/CAPTCHA 10K'\n",
    "save_path = 'dados/processed'\n",
    "if not os.path.exists(save_path):\n",
    "    os.makedirs(save_path)\n",
    "num_chars = 6"
   ]
  },
  {
   "cell_type": "code",
   "execution_count": 3,
   "id": "801c684e",
   "metadata": {},
   "outputs": [],
   "source": [
    "def split_image(img_path):\n",
    "    img = cv2.imread(img_path)\n",
    "    img_width = img.shape[1]\n",
    "    char_width = img_width // num_chars\n",
    "    chars = []\n",
    "    for i in range(num_chars):\n",
    "        start_x = i * char_width\n",
    "        end_x = (i + 1) * char_width if i < num_chars - 1 else img_width\n",
    "        char_img = img[:, start_x:end_x]\n",
    "        chars.append(char_img)\n",
    "        \n",
    "    return chars"
   ]
  },
  {
   "cell_type": "code",
   "execution_count": null,
   "id": "c4aa6e48",
   "metadata": {},
   "outputs": [],
   "source": []
  }
 ],
 "metadata": {
  "kernelspec": {
   "display_name": "Python 3",
   "language": "python",
   "name": "python3"
  },
  "language_info": {
   "codemirror_mode": {
    "name": "ipython",
    "version": 3
   },
   "file_extension": ".py",
   "mimetype": "text/x-python",
   "name": "python",
   "nbconvert_exporter": "python",
   "pygments_lexer": "ipython3",
   "version": "3.12.8"
  }
 },
 "nbformat": 4,
 "nbformat_minor": 5
}
