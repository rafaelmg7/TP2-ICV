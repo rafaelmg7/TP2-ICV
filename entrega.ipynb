{
 "cells": [
  {
   "cell_type": "code",
   "execution_count": 12,
   "id": "a6f4cb3b",
   "metadata": {},
   "outputs": [],
   "source": [
    "import io\n",
    "import os\n",
    "import cv2\n",
    "import numpy as np\n",
    "import matplotlib.pyplot as plt\n",
    "import matplotlib.image as mpimg\n",
    "from tqdm import tqdm"
   ]
  },
  {
   "cell_type": "code",
   "execution_count": 11,
   "id": "ef641f06",
   "metadata": {},
   "outputs": [],
   "source": [
    "path = 'dados/CAPTCHA-10k'\n",
    "save_path = 'dados/processed'\n",
    "labels_folder = 'labels10k'\n",
    "if not os.path.exists(save_path):\n",
    "    os.makedirs(save_path)\n",
    "num_chars = 6"
   ]
  },
  {
   "cell_type": "code",
   "execution_count": null,
   "id": "801c684e",
   "metadata": {},
   "outputs": [],
   "source": [
    "def split_image(folder, filename, save_path):\n",
    "    img = cv2.imread(os.path.join(path, folder, filename))\n",
    "    img_width = img.shape[1]\n",
    "    char_width = img_width // num_chars\n",
    "    base_name, ext = os.path.splitext(filename)\n",
    "    for i in range(num_chars):\n",
    "        start_x = i * char_width\n",
    "        end_x = (i + 1) * char_width if i < num_chars - 1 else img_width\n",
    "        char_img = img[:, start_x:end_x]\n",
    "        save_folder = os.path.join(save_path, folder)\n",
    "        if not os.path.exists(save_folder):\n",
    "            os.makedirs(save_folder)\n",
    "        char_filename = f\"{base_name}_{i}{ext}\"\n",
    "        cv2.imwrite(os.path.join(save_folder, char_filename), char_img)"
   ]
  },
  {
   "cell_type": "code",
   "execution_count": 14,
   "id": "c4aa6e48",
   "metadata": {},
   "outputs": [
    {
     "name": "stderr",
     "output_type": "stream",
     "text": [
      "Processing folders: 100%|██████████| 4/4 [00:00<00:00, 5039.72it/s]\n"
     ]
    }
   ],
   "source": [
    "for folder in tqdm(os.listdir(path), desc=\"Processing folders\"):\n",
    "    if os.path.isdir(os.path.join(path, folder)) and folder != labels_folder:\n",
    "        if not os.path.exists(os.path.join(save_path, folder)):\n",
    "            for filename in tqdm(os.listdir(os.path.join(path, folder)), desc=f\"Processing images in {folder}\"):\n",
    "                if filename.endswith('.jpg'):\n",
    "                    split_image(folder, filename, save_path)"
   ]
  }
 ],
 "metadata": {
  "kernelspec": {
   "display_name": "Python 3",
   "language": "python",
   "name": "python3"
  },
  "language_info": {
   "codemirror_mode": {
    "name": "ipython",
    "version": 3
   },
   "file_extension": ".py",
   "mimetype": "text/x-python",
   "name": "python",
   "nbconvert_exporter": "python",
   "pygments_lexer": "ipython3",
   "version": "3.12.8"
  }
 },
 "nbformat": 4,
 "nbformat_minor": 5
}
