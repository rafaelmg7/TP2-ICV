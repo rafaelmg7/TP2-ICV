{
 "cells": [
  {
   "cell_type": "code",
   "execution_count": 82,
   "id": "a6f4cb3b",
   "metadata": {},
   "outputs": [],
   "source": [
    "import io\n",
    "import os\n",
    "import cv2\n",
    "import numpy as np\n",
    "import matplotlib.pyplot as plt\n",
    "import matplotlib.image as mpimg\n",
    "from tqdm import tqdm"
   ]
  },
  {
   "cell_type": "code",
   "execution_count": 83,
   "id": "ef641f06",
   "metadata": {},
   "outputs": [],
   "source": [
    "path = 'dados/CAPTCHA-10k'\n",
    "save_path = 'dados/processed'\n",
    "labels_folder = 'labels10k'\n",
    "if not os.path.exists(save_path):\n",
    "    os.makedirs(save_path)\n",
    "num_chars = 6"
   ]
  },
  {
   "cell_type": "code",
   "execution_count": 84,
   "id": "8063dde7",
   "metadata": {},
   "outputs": [],
   "source": [
    "labels_dict = {}\n",
    "labels_path = 'dados/CAPTCHA-10k/labels10k'\n",
    "\n",
    "for fname in os.listdir(labels_path):\n",
    "    if not fname.endswith('.txt'):\n",
    "        continue\n",
    "\n",
    "    base_name = os.path.splitext(fname)[0]\n",
    "    full_path = os.path.join(labels_path, fname)\n",
    "\n",
    "    with open(full_path, 'r') as f:\n",
    "        content = f.read().strip()\n",
    "        labels_dict[base_name] = content\n"
   ]
  },
  {
   "cell_type": "code",
   "execution_count": 85,
   "id": "1087cb33",
   "metadata": {},
   "outputs": [],
   "source": [
    "def save_cleaned_image(path, folder, filename, save_path):\n",
    "    img_path = os.path.join(path, folder, filename)\n",
    "    img_gray = cv2.imread(img_path, cv2.IMREAD_GRAYSCALE)\n",
    "\n",
    "    if img_gray is None:\n",
    "        print(f\"Erro: Não foi possível carregar a imagem em {img_path}\")\n",
    "        return\n",
    "\n",
    "    # Remoção de ruído\n",
    "    denoised_img = cv2.medianBlur(img_gray, 1)\n",
    "\n",
    "    # Binarização (fundo preto, texto branco)\n",
    "    threshold_value = 80\n",
    "    _, binary_cleaned_img = cv2.threshold(denoised_img, threshold_value, 255, cv2.THRESH_BINARY_INV)\n",
    "\n",
    "    # Erosão leve para tentar separar caracteres colados\n",
    "    kernel = np.ones((2, 2), np.uint8)\n",
    "    binary_cleaned_img = cv2.erode(binary_cleaned_img, kernel, iterations=2)\n",
    "\n",
    "    \n",
    "    kernel = np.ones((1, 1), np.uint8)\n",
    "    binary_cleaned_img = cv2.dilate(binary_cleaned_img, kernel, iterations=1)\n",
    "\n",
    "    # Criar pasta de saída\n",
    "    output_folder_path = os.path.join(save_path, folder, 'cleanImage')\n",
    "    os.makedirs(output_folder_path, exist_ok=True)\n",
    "\n",
    "    # Salvar imagem final\n",
    "    cleaned_filename = f\"{os.path.splitext(filename)[0]}{os.path.splitext(filename)[1]}\"\n",
    "    full_output_path = os.path.join(output_folder_path, cleaned_filename)\n",
    "    cv2.imwrite(full_output_path, binary_cleaned_img)"
   ]
  },
  {
   "cell_type": "code",
   "execution_count": 86,
   "id": "f1143a70",
   "metadata": {},
   "outputs": [
    {
     "name": "stderr",
     "output_type": "stream",
     "text": [
      "Processing folders:   0%|          | 0/4 [00:00<?, ?it/s]"
     ]
    },
    {
     "name": "stderr",
     "output_type": "stream",
     "text": [
      "Processing folders: 100%|██████████| 4/4 [00:03<00:00,  1.24it/s]\n"
     ]
    }
   ],
   "source": [
    "for folder in tqdm(os.listdir(path), desc=\"Processing folders\"):\n",
    "    if os.path.isdir(os.path.join(path, folder)) and folder != labels_folder:\n",
    "        for filename in tqdm(os.listdir(os.path.join(path, folder)), desc=f\"Cleaning {folder}\", leave=False):\n",
    "            if filename.endswith('.jpg'):\n",
    "                save_cleaned_image(path, folder, filename, save_path)\n"
   ]
  },
  {
   "cell_type": "code",
   "execution_count": 87,
   "id": "c451f3f2",
   "metadata": {},
   "outputs": [],
   "source": [
    "def split_image(path, folder, filename, save_path,\n",
    "                        margin=12, max_char_width=48, min_advance=8, debug=False):\n",
    "    img_path = os.path.join(path, folder, filename)\n",
    "    img = cv2.imread(img_path, cv2.IMREAD_GRAYSCALE)\n",
    "\n",
    "    if img is None:\n",
    "        print(f\"Erro: Não foi possível carregar a imagem em {img_path}\")\n",
    "        return\n",
    "\n",
    "    height, width = img.shape\n",
    "    step = width / 6\n",
    "    cut_points = [int(round(i * step)) for i in range(7)]  \n",
    "\n",
    "    os.makedirs(save_path, exist_ok=True)\n",
    "    base_name, ext = os.path.splitext(filename)\n",
    "\n",
    "    if base_name not in labels_dict or len(labels_dict[base_name]) != 6:\n",
    "        print(f\"Label ausente ou incompleto para: {base_name}\")\n",
    "        return\n",
    "\n",
    "    label_seq = labels_dict[base_name]\n",
    "\n",
    "    prev_end_x = 0  # Para controlar avanço mínimo entre cortes\n",
    "\n",
    "    for i in range(6):\n",
    "        # Garante que o próximo corte avance pelo menos 'min_advance' pixels\n",
    "        base_start_x = max(prev_end_x + min_advance, cut_points[i])\n",
    "        base_end_x = cut_points[i + 1]\n",
    "\n",
    "        region = img[:, base_start_x:base_end_x]\n",
    "        proj = np.sum(region, axis=0)\n",
    "\n",
    "        region_width = base_end_x - base_start_x\n",
    "        center_local = int(np.argmax(proj))\n",
    "\n",
    "        # Limitar deslocamento do centro (máx 25% da largura da região)\n",
    "        center_shift = center_local - region_width // 2\n",
    "        max_shift = region_width // 4\n",
    "        clamped_shift = int(np.clip(center_shift, -max_shift, max_shift))\n",
    "        adjusted_center = base_start_x + region_width // 2 + clamped_shift\n",
    "\n",
    "        # Define faixa de corte com margem\n",
    "        start_x = int(max(0, adjusted_center - region_width // 2 - margin))\n",
    "        end_x = int(min(width, adjusted_center + region_width // 2 + margin))\n",
    "\n",
    "        # Impor limite máximo de largura\n",
    "        if end_x - start_x > max_char_width:\n",
    "            extra = (end_x - start_x - max_char_width) // 2\n",
    "            start_x += extra\n",
    "            end_x -= extra\n",
    "\n",
    "        # Atualiza o fim da faixa atual para o controle do próximo corte\n",
    "        prev_end_x = end_x\n",
    "\n",
    "        char_img = img[:, start_x:end_x]\n",
    "        char_label = label_seq[i]\n",
    "\n",
    "        # Salvar\n",
    "        save_path_full = os.path.join(save_path, char_label)\n",
    "        os.makedirs(save_path_full, exist_ok=True)\n",
    "\n",
    "        final_path = os.path.join(save_path_full, f\"{base_name}_{i}{ext}\")\n",
    "        cv2.imwrite(final_path, char_img)\n",
    "\n",
    "        # Debug visual\n",
    "        if debug:\n",
    "            img_debug = cv2.cvtColor(img, cv2.COLOR_GRAY2BGR)\n",
    "            cv2.rectangle(img_debug, (start_x, 0), (end_x, height), (0, 255, 0), 2)\n",
    "            cv2.imshow(f\"Char {i}\", img_debug)\n",
    "            cv2.waitKey(0)\n",
    "\n",
    "    if debug:\n",
    "        cv2.destroyAllWindows()"
   ]
  },
  {
   "cell_type": "code",
   "execution_count": 88,
   "id": "c4aa6e48",
   "metadata": {},
   "outputs": [
    {
     "name": "stderr",
     "output_type": "stream",
     "text": [
      "Segmentando treinamento:   5%|▌         | 436/8000 [00:00<00:08, 885.04it/s]"
     ]
    },
    {
     "name": "stdout",
     "output_type": "stream",
     "text": [
      "Label ausente ou incompleto para: 006343\n"
     ]
    },
    {
     "name": "stderr",
     "output_type": "stream",
     "text": [
      "Segmentando treinamento:  79%|███████▉  | 6340/8000 [00:07<00:01, 921.96it/s]"
     ]
    },
    {
     "name": "stdout",
     "output_type": "stream",
     "text": [
      "Label ausente ou incompleto para: 006742\n"
     ]
    },
    {
     "name": "stderr",
     "output_type": "stream",
     "text": [
      "Segmentando treinamento:  96%|█████████▌| 7650/8000 [00:09<00:00, 740.82it/s]"
     ]
    },
    {
     "name": "stdout",
     "output_type": "stream",
     "text": [
      "Label ausente ou incompleto para: 007181\n"
     ]
    },
    {
     "name": "stderr",
     "output_type": "stream",
     "text": [
      "Segmentando treinamento: 100%|██████████| 8000/8000 [00:10<00:00, 779.44it/s]\n",
      "Segmentando teste: 100%|██████████| 1000/1000 [00:01<00:00, 846.17it/s]\n"
     ]
    },
    {
     "name": "stdout",
     "output_type": "stream",
     "text": [
      "Label ausente ou incompleto para: 009067\n"
     ]
    },
    {
     "name": "stderr",
     "output_type": "stream",
     "text": [
      "Segmentando validacao:  80%|███████▉  | 796/1000 [00:00<00:00, 917.76it/s] "
     ]
    },
    {
     "name": "stdout",
     "output_type": "stream",
     "text": [
      "Label ausente ou incompleto para: 008714\n"
     ]
    },
    {
     "name": "stderr",
     "output_type": "stream",
     "text": [
      "Segmentando validacao: 100%|██████████| 1000/1000 [00:01<00:00, 904.68it/s]\n"
     ]
    }
   ],
   "source": [
    "conjuntos = ['treinamento', 'teste', 'validacao']\n",
    "clean_base_path = '/home/bernardo/TP2-ICV/dados/processed'\n",
    "\n",
    "for conjunto in conjuntos:\n",
    "    # Caminho real: processed/treinamento/cleanImage\n",
    "    full_clean_folder = os.path.join(clean_base_path, conjunto, 'cleanImage')\n",
    "\n",
    "    for filename in tqdm(os.listdir(full_clean_folder), desc=f\"Segmentando {conjunto}\"):\n",
    "        if filename.endswith('.jpg'):\n",
    "            save_folder = os.path.join(clean_base_path, conjunto)\n",
    "\n",
    "            split_image(\n",
    "                path=full_clean_folder,   # caminho exato onde está a imagem limpa\n",
    "                folder='',                # não precisa mais, o path já está completo\n",
    "                filename=filename,\n",
    "                save_path=save_folder,\n",
    "                debug=False\n",
    "            )\n"
   ]
  },
  {
   "cell_type": "code",
   "execution_count": null,
   "id": "f3981cef",
   "metadata": {},
   "outputs": [
    {
     "name": "stderr",
     "output_type": "stream",
     "text": [
      "Copiando teste/X: 100%|██████████| 168/168 [00:00<00:00, 3381.95it/s]\n",
      "Copiando teste/T: 100%|██████████| 138/138 [00:00<00:00, 5301.66it/s]\n",
      "Copiando teste/H: 100%|██████████| 154/154 [00:00<00:00, 5720.03it/s]\n",
      "Copiando teste/9: 100%|██████████| 172/172 [00:00<00:00, 5625.72it/s]\n",
      "Copiando teste/D: 100%|██████████| 178/178 [00:00<00:00, 6543.66it/s]\n",
      "Copiando teste/E: 100%|██████████| 185/185 [00:00<00:00, 5605.09it/s]\n",
      "Copiando teste/S: 100%|██████████| 167/167 [00:00<00:00, 6067.85it/s]\n",
      "Copiando teste/3: 100%|██████████| 163/163 [00:00<00:00, 6269.57it/s]\n",
      "Copiando teste/L: 100%|██████████| 157/157 [00:00<00:00, 5963.70it/s]\n",
      "Copiando teste/6: 100%|██████████| 161/161 [00:00<00:00, 5671.26it/s]\n",
      "Copiando teste/0: 100%|██████████| 177/177 [00:00<00:00, 4930.90it/s]\n",
      "Copiando teste/A: 100%|██████████| 161/161 [00:00<00:00, 5315.35it/s]\n",
      "Copiando teste/Y: 100%|██████████| 171/171 [00:00<00:00, 5736.84it/s]\n",
      "Copiando teste/7: 100%|██████████| 156/156 [00:00<00:00, 5795.70it/s]\n",
      "Copiando teste/8: 100%|██████████| 154/154 [00:00<00:00, 5545.97it/s]\n",
      "Copiando teste/M: 100%|██████████| 162/162 [00:00<00:00, 5567.84it/s]\n",
      "Copiando teste/5: 100%|██████████| 167/167 [00:00<00:00, 5378.88it/s]\n",
      "Copiando teste/B: 100%|██████████| 148/148 [00:00<00:00, 4573.77it/s]\n",
      "Copiando teste/K: 100%|██████████| 165/165 [00:00<00:00, 5041.56it/s]\n",
      "Copiando teste/1: 100%|██████████| 170/170 [00:00<00:00, 4880.54it/s]\n",
      "Copiando teste/J: 100%|██████████| 145/145 [00:00<00:00, 4784.52it/s]\n",
      "Copiando teste/I: 100%|██████████| 162/162 [00:00<00:00, 4860.32it/s]\n",
      "Copiando teste/4: 100%|██████████| 160/160 [00:00<00:00, 5135.59it/s]\n",
      "Copiando teste/C: 100%|██████████| 166/166 [00:00<00:00, 5123.25it/s]\n",
      "Copiando teste/R: 100%|██████████| 174/174 [00:00<00:00, 5250.65it/s]\n",
      "Copiando teste/V: 100%|██████████| 189/189 [00:00<00:00, 5365.48it/s]\n",
      "Copiando teste/Z: 100%|██████████| 186/186 [00:00<00:00, 5033.10it/s]\n",
      "Copiando teste/Q: 100%|██████████| 165/165 [00:00<00:00, 5234.67it/s]\n",
      "Copiando teste/O: 100%|██████████| 196/196 [00:00<00:00, 5482.75it/s]\n",
      "Copiando teste/F: 100%|██████████| 154/154 [00:00<00:00, 5322.81it/s]\n",
      "Copiando teste/2: 100%|██████████| 162/162 [00:00<00:00, 5686.67it/s]\n",
      "Copiando teste/N: 100%|██████████| 182/182 [00:00<00:00, 5734.79it/s]\n",
      "Copiando teste/G: 100%|██████████| 172/172 [00:00<00:00, 5978.31it/s]\n",
      "Copiando teste/W: 100%|██████████| 179/179 [00:00<00:00, 5934.55it/s]\n",
      "Copiando teste/P: 100%|██████████| 160/160 [00:00<00:00, 5842.00it/s]\n",
      "Copiando teste/U: 100%|██████████| 168/168 [00:00<00:00, 5845.48it/s]\n"
     ]
    }
   ],
   "source": [
    "import os\n",
    "import shutil\n",
    "from tqdm import tqdm\n",
    "\n",
    "# Caminho base dos dados\n",
    "base_path = '/home/bernardo/TP2-ICV/dados'\n",
    "\n",
    "# Pasta onde estão os arquivos organizados por classe\n",
    "processed_path = os.path.join(base_path, 'processed')\n",
    "\n",
    "# Pasta de saída (fora da pasta processed)\n",
    "output_path = os.path.join(base_path, 'sequencial')\n",
    "os.makedirs(output_path, exist_ok=True)\n",
    "\n",
    "conjuntos = ['teste']\n",
    "\n",
    "for conjunto in conjuntos:\n",
    "    conjunto_path = os.path.join(processed_path, conjunto)\n",
    "    for classe in os.listdir(conjunto_path):\n",
    "        classe_path = os.path.join(conjunto_path, classe)\n",
    "        if not os.path.isdir(classe_path):\n",
    "            continue\n",
    "\n",
    "        for filename in tqdm(os.listdir(classe_path), desc=f\"Copiando {conjunto}/{classe}\"):\n",
    "            if filename.endswith('.jpg'):\n",
    "                nome_base, ext = os.path.splitext(filename)\n",
    "\n",
    "                # Monta o novo nome: conjunto_nomebase_label.jpg\n",
    "                new_filename = f\"{nome_base}_{classe}{ext}\"\n",
    "\n",
    "                src = os.path.join(classe_path, filename)\n",
    "                dst = os.path.join(output_path, new_filename)\n",
    "\n",
    "                shutil.copy(src, dst)\n"
   ]
  }
 ],
 "metadata": {
  "kernelspec": {
   "display_name": ".venv",
   "language": "python",
   "name": "python3"
  },
  "language_info": {
   "codemirror_mode": {
    "name": "ipython",
    "version": 3
   },
   "file_extension": ".py",
   "mimetype": "text/x-python",
   "name": "python",
   "nbconvert_exporter": "python",
   "pygments_lexer": "ipython3",
   "version": "3.12.3"
  }
 },
 "nbformat": 4,
 "nbformat_minor": 5
}
