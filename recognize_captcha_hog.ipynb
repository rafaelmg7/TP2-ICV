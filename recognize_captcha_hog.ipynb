{
 "cells": [
  {
   "cell_type": "code",
   "execution_count": 18,
   "id": "36b91f62",
   "metadata": {},
   "outputs": [],
   "source": [
    "import io\n",
    "import os\n",
    "import shutil\n",
    "import cv2\n",
    "import numpy as np\n",
    "import matplotlib.pyplot as plt\n",
    "import matplotlib.image as mpimg\n",
    "from tqdm import tqdm\n",
    "import math\n",
    "import pandas as pd\n",
    "\n",
    "from sklearn.preprocessing import StandardScaler, OneHotEncoder, LabelEncoder, OrdinalEncoder, MinMaxScaler\n",
    "from sklearn.compose import ColumnTransformer, make_column_selector, make_column_transformer\n",
    "from sklearn.pipeline import Pipeline\n",
    "from sklearn.impute import SimpleImputer\n",
    "from sklearn.model_selection import train_test_split\n",
    "from sklearn.metrics import mean_absolute_error, mean_squared_error, root_mean_squared_error, f1_score, confusion_matrix, ConfusionMatrixDisplay, classification_report\n",
    "from sklearn.ensemble import RandomForestClassifier\n",
    "from sklearn.svm import SVC\n",
    "from sklearn.neural_network import MLPClassifier\n",
    "from sklearn.inspection import permutation_importance\n",
    "from sklearn.neighbors import KNeighborsClassifier\n",
    "from sklearn.tree import DecisionTreeClassifier\n",
    "from xgboost import XGBClassifier"
   ]
  },
  {
   "cell_type": "code",
   "execution_count": 19,
   "id": "715d36a3",
   "metadata": {},
   "outputs": [],
   "source": [
    "conjuntos = ['treinamento', 'teste', 'validacao']\n",
    "base_path = 'dados/processed'\n",
    "pastas_excluir = ['cleanImage', '?']\n",
    "\n",
    "for conjunto in conjuntos:\n",
    "    conjunto_path = os.path.join(base_path, conjunto)\n",
    "    for nome in os.listdir(conjunto_path):\n",
    "        full_path = os.path.join(conjunto_path, nome)\n",
    "        if nome in pastas_excluir and os.path.isdir(full_path):\n",
    "            print(f\"Removendo pasta: {full_path}\")\n",
    "            shutil.rmtree(full_path)"
   ]
  },
  {
   "cell_type": "code",
   "execution_count": 20,
   "id": "5a79c697",
   "metadata": {},
   "outputs": [],
   "source": [
    "train_dir = 'dados/processed/treinamento'\n",
    "val_dir   = 'dados/processed/validacao'\n",
    "test_dir  = 'dados/processed/teste'"
   ]
  },
  {
   "cell_type": "code",
   "execution_count": 21,
   "id": "f65440e5",
   "metadata": {},
   "outputs": [],
   "source": [
    "def load_images_from_folder(folder):\n",
    "    images = {}\n",
    "    for char_folder in os.listdir(folder):\n",
    "        char_images = []\n",
    "        for filename in os.listdir(os.path.join(folder, char_folder)):\n",
    "            if filename.endswith('.jpg'):\n",
    "                img_path = os.path.join(folder, char_folder, filename)\n",
    "                if os.path.isfile(img_path):\n",
    "                    img = cv2.imread(img_path, cv2.IMREAD_GRAYSCALE)\n",
    "                    original_img_name = filename.split('_')[0] if '_' in filename else filename\n",
    "                    if img is not None:\n",
    "                        char_images.append((img, original_img_name))\n",
    "        \n",
    "        images[char_folder] = char_images\n",
    "    \n",
    "    return images"
   ]
  },
  {
   "cell_type": "code",
   "execution_count": 22,
   "id": "d03f6622",
   "metadata": {},
   "outputs": [],
   "source": [
    "def calculate_bin_index(angle):\n",
    "    temp = (angle / 20.0) - 0.5\n",
    "    j = math.floor(temp)\n",
    "    return j\n",
    "\n",
    "def calculate_center_of_bin(j):\n",
    "    return round((j + 0.5) * 20.0, 9)\n",
    "\n",
    "def calculate_value_of_bin(magnitude, angle, j):\n",
    "    cj = calculate_center_of_bin(j)\n",
    "    vj = magnitude * ((cj - angle) / 20.0)\n",
    "    return round(vj, 9)"
   ]
  },
  {
   "cell_type": "code",
   "execution_count": 23,
   "id": "25c511c1",
   "metadata": {},
   "outputs": [],
   "source": [
    "def compute_histogram(magnitude, angle, num_bins=9):\n",
    "    histogram = np.zeros(num_bins)\n",
    "    bin_size = 180 / num_bins\n",
    "\n",
    "    bin_index = angle / bin_size\n",
    "    lower = int(np.floor(bin_index)) % num_bins\n",
    "    upper = (lower + 1) % num_bins\n",
    "    ratio = bin_index - lower\n",
    "\n",
    "    histogram[lower] += magnitude * (1 - ratio)\n",
    "    histogram[upper] += magnitude * ratio\n",
    "\n",
    "    return histogram"
   ]
  },
  {
   "cell_type": "code",
   "execution_count": 24,
   "id": "9323f446",
   "metadata": {},
   "outputs": [],
   "source": [
    "# def extract_hog_features(image):\n",
    "#     resized_image = cv2.resize(image, (64, 128))\n",
    "\n",
    "#     hog = cv2.HOGDescriptor()\n",
    "#     features = hog.compute(resized_image)\n",
    "#     if features is None:\n",
    "#         print(\"Erro ao extrair características HOG: 'features' é None\")\n",
    "#         return np.array([])\n",
    "#     # print(f\"Dimensões das características HOG: {features.shape}\")\n",
    "#     return np.array(features)\n",
    "\n",
    "def extract_hog_features(image, cell_size=8, block_size=2, num_bins=9):\n",
    "    # Redimensiona para o tamanho padrão usado em HOG\n",
    "    resized_image = cv2.resize(image, (64, 128))\n",
    "\n",
    "    # Calcula os gradientes usando Sobel\n",
    "    Gx = cv2.Sobel(resized_image, cv2.CV_64F, 1, 0, ksize=3)\n",
    "    Gy = cv2.Sobel(resized_image, cv2.CV_64F, 0, 1, ksize=3)\n",
    "\n",
    "    # Calcula magnitude e ângulo\n",
    "    magnitude = np.sqrt(Gx ** 2 + Gy ** 2)\n",
    "    angle = np.arctan2(Gy, Gx) * (180 / np.pi)\n",
    "    angle[angle < 0] += 180\n",
    "    angle[angle >= 180] -= 180\n",
    "\n",
    "    nrows, ncols = magnitude.shape\n",
    "\n",
    "    # Organiza células\n",
    "    hog_cells = []\n",
    "    for i in range(0, nrows, cell_size):\n",
    "        row_cells = []\n",
    "        for j in range(0, ncols, cell_size):\n",
    "            hist = np.zeros(num_bins)\n",
    "            for dx in range(min(cell_size, nrows - i)):\n",
    "                for dy in range(min(cell_size, ncols - j)):\n",
    "                    if i + dx < nrows and j + dy < ncols:\n",
    "                        mag = magnitude[i + dx, j + dy]\n",
    "                        ang = angle[i + dx, j + dy]\n",
    "                        hist += compute_histogram(mag, ang, num_bins)\n",
    "            row_cells.append(hist)\n",
    "        if row_cells:\n",
    "            hog_cells.append(row_cells)\n",
    "\n",
    "    # Extrai características por blocos e normaliza\n",
    "    features = []\n",
    "    epsilon = 1e-5\n",
    "    \n",
    "    # Verifica se temos células suficientes para formar blocos\n",
    "    if len(hog_cells) < block_size or len(hog_cells[0]) < block_size:\n",
    "        # Retorna um vetor de características vazio ou com um valor padrão\n",
    "        print(f\"Aviso: Imagem muito pequena para extração HOG com os parâmetros atuais.\")\n",
    "        return np.zeros(36, dtype=np.float32)  # Retorna vetor de zeros como fallback\n",
    "        \n",
    "    for i in range(len(hog_cells) - block_size + 1):\n",
    "        for j in range(len(hog_cells[0]) - block_size + 1):\n",
    "            # Concatena as células em um bloco\n",
    "            block = []\n",
    "            for bi in range(block_size):\n",
    "                for bj in range(block_size):\n",
    "                    block.append(hog_cells[i + bi][j + bj])\n",
    "            \n",
    "            block_features = np.concatenate(block)\n",
    "            # Normalização L2\n",
    "            norm = np.sqrt(np.sum(block_features ** 2) + epsilon)\n",
    "            features.extend(block_features / norm)\n",
    "\n",
    "    return np.array(features, dtype=np.float32)\n",
    "\n",
    "    # Normalização L2\n",
    "    # hog_features = np.array(hog_features)\n",
    "    # norm = np.linalg.norm(hog_features) + 1e-7\n",
    "    # hog_features = hog_features / norm\n",
    "    # return hog_features.tolist()"
   ]
  },
  {
   "cell_type": "code",
   "execution_count": 28,
   "id": "6bebed12",
   "metadata": {},
   "outputs": [],
   "source": [
    "def create_features_df(folder, min_samples_per_class=50):\n",
    "    if os.path.exists(f'{folder}_features.csv'):\n",
    "        print(f\"Arquivo {folder}_features.csv já existe. Carregando...\")\n",
    "        return pd.read_csv(f'{folder}_features.csv')\n",
    "    \n",
    "    print(f\"Extraindo HOG features de {folder}...\")\n",
    "    features = []\n",
    "    images = load_images_from_folder(folder)\n",
    "        \n",
    "    for char, char_images in tqdm(images.items(), desc=\"Processando caracteres\"):\n",
    "        print(f\"Processando imagens do caractere: {char}\")\n",
    "        \n",
    "        for (img, name) in char_images:\n",
    "            hog_features = extract_hog_features(img)\n",
    "            features.append([str(char)] + [str(name)] + hog_features.tolist())\n",
    "            \n",
    "    df = pd.DataFrame(features)\n",
    "    df.columns = ['label'] + ['original_image'] + [f'feature_{i}' for i in range(len(df.columns) - 2)]\n",
    "\n",
    "    df.to_csv(f'{folder}_features.csv', index=False)\n",
    "    \n",
    "    return df"
   ]
  },
  {
   "cell_type": "code",
   "execution_count": 29,
   "id": "509e3ce6",
   "metadata": {},
   "outputs": [
    {
     "name": "stdout",
     "output_type": "stream",
     "text": [
      "Extraindo HOG features de dados/processed/treinamento...\n"
     ]
    },
    {
     "name": "stderr",
     "output_type": "stream",
     "text": [
      "Processando caracteres:   0%|          | 0/36 [00:00<?, ?it/s]"
     ]
    },
    {
     "name": "stdout",
     "output_type": "stream",
     "text": [
      "Processando imagens do caractere: D\n"
     ]
    },
    {
     "name": "stderr",
     "output_type": "stream",
     "text": [
      "Processando caracteres:   3%|▎         | 1/36 [00:18<10:37, 18.20s/it]"
     ]
    },
    {
     "name": "stdout",
     "output_type": "stream",
     "text": [
      "Processando imagens do caractere: 6\n"
     ]
    },
    {
     "name": "stderr",
     "output_type": "stream",
     "text": [
      "Processando caracteres:   6%|▌         | 2/36 [00:37<10:38, 18.77s/it]"
     ]
    },
    {
     "name": "stdout",
     "output_type": "stream",
     "text": [
      "Processando imagens do caractere: U\n"
     ]
    },
    {
     "name": "stderr",
     "output_type": "stream",
     "text": [
      "Processando caracteres:   8%|▊         | 3/36 [00:57<10:35, 19.27s/it]"
     ]
    },
    {
     "name": "stdout",
     "output_type": "stream",
     "text": [
      "Processando imagens do caractere: M\n"
     ]
    },
    {
     "name": "stderr",
     "output_type": "stream",
     "text": [
      "Processando caracteres:  11%|█         | 4/36 [01:17<10:25, 19.55s/it]"
     ]
    },
    {
     "name": "stdout",
     "output_type": "stream",
     "text": [
      "Processando imagens do caractere: A\n"
     ]
    },
    {
     "name": "stderr",
     "output_type": "stream",
     "text": [
      "Processando caracteres:  14%|█▍        | 5/36 [01:35<09:51, 19.08s/it]"
     ]
    },
    {
     "name": "stdout",
     "output_type": "stream",
     "text": [
      "Processando imagens do caractere: L\n"
     ]
    },
    {
     "name": "stderr",
     "output_type": "stream",
     "text": [
      "Processando caracteres:  17%|█▋        | 6/36 [01:54<09:33, 19.13s/it]"
     ]
    },
    {
     "name": "stdout",
     "output_type": "stream",
     "text": [
      "Processando imagens do caractere: K\n"
     ]
    },
    {
     "name": "stderr",
     "output_type": "stream",
     "text": [
      "Processando caracteres:  19%|█▉        | 7/36 [02:13<09:13, 19.07s/it]"
     ]
    },
    {
     "name": "stdout",
     "output_type": "stream",
     "text": [
      "Processando imagens do caractere: 0\n"
     ]
    },
    {
     "name": "stderr",
     "output_type": "stream",
     "text": [
      "Processando caracteres:  22%|██▏       | 8/36 [02:31<08:39, 18.54s/it]"
     ]
    },
    {
     "name": "stdout",
     "output_type": "stream",
     "text": [
      "Processando imagens do caractere: S\n"
     ]
    },
    {
     "name": "stderr",
     "output_type": "stream",
     "text": [
      "Processando caracteres:  25%|██▌       | 9/36 [02:51<08:33, 19.00s/it]"
     ]
    },
    {
     "name": "stdout",
     "output_type": "stream",
     "text": [
      "Processando imagens do caractere: 9\n"
     ]
    },
    {
     "name": "stderr",
     "output_type": "stream",
     "text": [
      "Processando caracteres:  28%|██▊       | 10/36 [03:09<08:11, 18.91s/it]"
     ]
    },
    {
     "name": "stdout",
     "output_type": "stream",
     "text": [
      "Processando imagens do caractere: 1\n"
     ]
    },
    {
     "name": "stderr",
     "output_type": "stream",
     "text": [
      "Processando caracteres:  31%|███       | 11/36 [03:30<08:06, 19.45s/it]"
     ]
    },
    {
     "name": "stdout",
     "output_type": "stream",
     "text": [
      "Processando imagens do caractere: Z\n"
     ]
    },
    {
     "name": "stderr",
     "output_type": "stream",
     "text": [
      "Processando caracteres:  33%|███▎      | 12/36 [03:49<07:47, 19.47s/it]"
     ]
    },
    {
     "name": "stdout",
     "output_type": "stream",
     "text": [
      "Processando imagens do caractere: V\n"
     ]
    },
    {
     "name": "stderr",
     "output_type": "stream",
     "text": [
      "Processando caracteres:  36%|███▌      | 13/36 [04:11<07:38, 19.95s/it]"
     ]
    },
    {
     "name": "stdout",
     "output_type": "stream",
     "text": [
      "Processando imagens do caractere: E\n"
     ]
    },
    {
     "name": "stderr",
     "output_type": "stream",
     "text": [
      "Processando caracteres:  39%|███▉      | 14/36 [04:29<07:10, 19.57s/it]"
     ]
    },
    {
     "name": "stdout",
     "output_type": "stream",
     "text": [
      "Processando imagens do caractere: 8\n"
     ]
    },
    {
     "name": "stderr",
     "output_type": "stream",
     "text": [
      "Processando caracteres:  42%|████▏     | 15/36 [04:48<06:47, 19.43s/it]"
     ]
    },
    {
     "name": "stdout",
     "output_type": "stream",
     "text": [
      "Processando imagens do caractere: 4\n"
     ]
    },
    {
     "name": "stderr",
     "output_type": "stream",
     "text": [
      "Processando caracteres:  44%|████▍     | 16/36 [05:07<06:26, 19.33s/it]"
     ]
    },
    {
     "name": "stdout",
     "output_type": "stream",
     "text": [
      "Processando imagens do caractere: N\n"
     ]
    },
    {
     "name": "stderr",
     "output_type": "stream",
     "text": [
      "Processando caracteres:  47%|████▋     | 17/36 [05:27<06:06, 19.27s/it]"
     ]
    },
    {
     "name": "stdout",
     "output_type": "stream",
     "text": [
      "Processando imagens do caractere: O\n"
     ]
    },
    {
     "name": "stderr",
     "output_type": "stream",
     "text": [
      "Processando caracteres:  50%|█████     | 18/36 [05:48<05:58, 19.92s/it]"
     ]
    },
    {
     "name": "stdout",
     "output_type": "stream",
     "text": [
      "Processando imagens do caractere: 5\n"
     ]
    },
    {
     "name": "stderr",
     "output_type": "stream",
     "text": [
      "Processando caracteres:  53%|█████▎    | 19/36 [06:08<05:36, 19.82s/it]"
     ]
    },
    {
     "name": "stdout",
     "output_type": "stream",
     "text": [
      "Processando imagens do caractere: F\n"
     ]
    },
    {
     "name": "stderr",
     "output_type": "stream",
     "text": [
      "Processando caracteres:  56%|█████▌    | 20/36 [06:28<05:18, 19.88s/it]"
     ]
    },
    {
     "name": "stdout",
     "output_type": "stream",
     "text": [
      "Processando imagens do caractere: C\n"
     ]
    },
    {
     "name": "stderr",
     "output_type": "stream",
     "text": [
      "Processando caracteres:  58%|█████▊    | 21/36 [06:47<04:54, 19.63s/it]"
     ]
    },
    {
     "name": "stdout",
     "output_type": "stream",
     "text": [
      "Processando imagens do caractere: T\n"
     ]
    },
    {
     "name": "stderr",
     "output_type": "stream",
     "text": [
      "Processando caracteres:  61%|██████    | 22/36 [07:05<04:30, 19.29s/it]"
     ]
    },
    {
     "name": "stdout",
     "output_type": "stream",
     "text": [
      "Processando imagens do caractere: 2\n"
     ]
    },
    {
     "name": "stderr",
     "output_type": "stream",
     "text": [
      "Processando caracteres:  64%|██████▍   | 23/36 [07:25<04:12, 19.41s/it]"
     ]
    },
    {
     "name": "stdout",
     "output_type": "stream",
     "text": [
      "Processando imagens do caractere: W\n"
     ]
    },
    {
     "name": "stderr",
     "output_type": "stream",
     "text": [
      "Processando caracteres:  67%|██████▋   | 24/36 [07:45<03:54, 19.58s/it]"
     ]
    },
    {
     "name": "stdout",
     "output_type": "stream",
     "text": [
      "Processando imagens do caractere: 7\n"
     ]
    },
    {
     "name": "stderr",
     "output_type": "stream",
     "text": [
      "Processando caracteres:  69%|██████▉   | 25/36 [08:04<03:32, 19.34s/it]"
     ]
    },
    {
     "name": "stdout",
     "output_type": "stream",
     "text": [
      "Processando imagens do caractere: I\n"
     ]
    },
    {
     "name": "stderr",
     "output_type": "stream",
     "text": [
      "Processando caracteres:  72%|███████▏  | 26/36 [08:22<03:10, 19.00s/it]"
     ]
    },
    {
     "name": "stdout",
     "output_type": "stream",
     "text": [
      "Processando imagens do caractere: H\n"
     ]
    },
    {
     "name": "stderr",
     "output_type": "stream",
     "text": [
      "Processando caracteres:  75%|███████▌  | 27/36 [08:41<02:50, 19.00s/it]"
     ]
    },
    {
     "name": "stdout",
     "output_type": "stream",
     "text": [
      "Processando imagens do caractere: G\n"
     ]
    },
    {
     "name": "stderr",
     "output_type": "stream",
     "text": [
      "Processando caracteres:  78%|███████▊  | 28/36 [09:01<02:35, 19.44s/it]"
     ]
    },
    {
     "name": "stdout",
     "output_type": "stream",
     "text": [
      "Processando imagens do caractere: J\n"
     ]
    },
    {
     "name": "stderr",
     "output_type": "stream",
     "text": [
      "Processando caracteres:  81%|████████  | 29/36 [09:19<02:12, 18.99s/it]"
     ]
    },
    {
     "name": "stdout",
     "output_type": "stream",
     "text": [
      "Processando imagens do caractere: Y\n"
     ]
    },
    {
     "name": "stderr",
     "output_type": "stream",
     "text": [
      "Processando caracteres:  83%|████████▎ | 30/36 [09:40<01:57, 19.50s/it]"
     ]
    },
    {
     "name": "stdout",
     "output_type": "stream",
     "text": [
      "Processando imagens do caractere: 3\n"
     ]
    },
    {
     "name": "stderr",
     "output_type": "stream",
     "text": [
      "Processando caracteres:  86%|████████▌ | 31/36 [09:58<01:35, 19.15s/it]"
     ]
    },
    {
     "name": "stdout",
     "output_type": "stream",
     "text": [
      "Processando imagens do caractere: R\n"
     ]
    },
    {
     "name": "stderr",
     "output_type": "stream",
     "text": [
      "Processando caracteres:  89%|████████▉ | 32/36 [10:17<01:16, 19.01s/it]"
     ]
    },
    {
     "name": "stdout",
     "output_type": "stream",
     "text": [
      "Processando imagens do caractere: P\n"
     ]
    },
    {
     "name": "stderr",
     "output_type": "stream",
     "text": [
      "Processando caracteres:  92%|█████████▏| 33/36 [10:35<00:56, 18.82s/it]"
     ]
    },
    {
     "name": "stdout",
     "output_type": "stream",
     "text": [
      "Processando imagens do caractere: B\n"
     ]
    },
    {
     "name": "stderr",
     "output_type": "stream",
     "text": [
      "Processando caracteres:  94%|█████████▍| 34/36 [10:53<00:36, 18.43s/it]"
     ]
    },
    {
     "name": "stdout",
     "output_type": "stream",
     "text": [
      "Processando imagens do caractere: X\n"
     ]
    },
    {
     "name": "stderr",
     "output_type": "stream",
     "text": [
      "Processando caracteres:  97%|█████████▋| 35/36 [11:11<00:18, 18.42s/it]"
     ]
    },
    {
     "name": "stdout",
     "output_type": "stream",
     "text": [
      "Processando imagens do caractere: Q\n"
     ]
    },
    {
     "name": "stderr",
     "output_type": "stream",
     "text": [
      "Processando caracteres: 100%|██████████| 36/36 [11:30<00:00, 19.19s/it]\n"
     ]
    },
    {
     "name": "stdout",
     "output_type": "stream",
     "text": [
      "Extraindo HOG features de dados/processed/validacao...\n"
     ]
    },
    {
     "name": "stderr",
     "output_type": "stream",
     "text": [
      "Processando caracteres:   0%|          | 0/36 [00:00<?, ?it/s]"
     ]
    },
    {
     "name": "stdout",
     "output_type": "stream",
     "text": [
      "Processando imagens do caractere: D\n"
     ]
    },
    {
     "name": "stderr",
     "output_type": "stream",
     "text": [
      "Processando caracteres:   3%|▎         | 1/36 [00:02<01:29,  2.55s/it]"
     ]
    },
    {
     "name": "stdout",
     "output_type": "stream",
     "text": [
      "Processando imagens do caractere: 6\n"
     ]
    },
    {
     "name": "stderr",
     "output_type": "stream",
     "text": [
      "Processando caracteres:   6%|▌         | 2/36 [00:04<01:24,  2.48s/it]"
     ]
    },
    {
     "name": "stdout",
     "output_type": "stream",
     "text": [
      "Processando imagens do caractere: U\n"
     ]
    },
    {
     "name": "stderr",
     "output_type": "stream",
     "text": [
      "Processando caracteres:   8%|▊         | 3/36 [00:07<01:24,  2.57s/it]"
     ]
    },
    {
     "name": "stdout",
     "output_type": "stream",
     "text": [
      "Processando imagens do caractere: M\n"
     ]
    },
    {
     "name": "stderr",
     "output_type": "stream",
     "text": [
      "Processando caracteres:  11%|█         | 4/36 [00:09<01:18,  2.46s/it]"
     ]
    },
    {
     "name": "stdout",
     "output_type": "stream",
     "text": [
      "Processando imagens do caractere: A\n"
     ]
    },
    {
     "name": "stderr",
     "output_type": "stream",
     "text": [
      "Processando caracteres:  14%|█▍        | 5/36 [00:12<01:11,  2.32s/it]"
     ]
    },
    {
     "name": "stdout",
     "output_type": "stream",
     "text": [
      "Processando imagens do caractere: L\n"
     ]
    },
    {
     "name": "stderr",
     "output_type": "stream",
     "text": [
      "Processando caracteres:  17%|█▋        | 6/36 [00:14<01:08,  2.29s/it]"
     ]
    },
    {
     "name": "stdout",
     "output_type": "stream",
     "text": [
      "Processando imagens do caractere: K\n"
     ]
    },
    {
     "name": "stderr",
     "output_type": "stream",
     "text": [
      "Processando caracteres:  19%|█▉        | 7/36 [00:16<01:05,  2.27s/it]"
     ]
    },
    {
     "name": "stdout",
     "output_type": "stream",
     "text": [
      "Processando imagens do caractere: 0\n"
     ]
    },
    {
     "name": "stderr",
     "output_type": "stream",
     "text": [
      "Processando caracteres:  22%|██▏       | 8/36 [00:19<01:05,  2.35s/it]"
     ]
    },
    {
     "name": "stdout",
     "output_type": "stream",
     "text": [
      "Processando imagens do caractere: S\n"
     ]
    },
    {
     "name": "stderr",
     "output_type": "stream",
     "text": [
      "Processando caracteres:  25%|██▌       | 9/36 [00:21<01:06,  2.47s/it]"
     ]
    },
    {
     "name": "stdout",
     "output_type": "stream",
     "text": [
      "Processando imagens do caractere: 9\n"
     ]
    },
    {
     "name": "stderr",
     "output_type": "stream",
     "text": [
      "Processando caracteres:  28%|██▊       | 10/36 [00:23<01:01,  2.35s/it]"
     ]
    },
    {
     "name": "stdout",
     "output_type": "stream",
     "text": [
      "Processando imagens do caractere: 1\n"
     ]
    },
    {
     "name": "stderr",
     "output_type": "stream",
     "text": [
      "Processando caracteres:  31%|███       | 11/36 [00:26<01:01,  2.48s/it]"
     ]
    },
    {
     "name": "stdout",
     "output_type": "stream",
     "text": [
      "Processando imagens do caractere: Z\n"
     ]
    },
    {
     "name": "stderr",
     "output_type": "stream",
     "text": [
      "Processando caracteres:  33%|███▎      | 12/36 [00:28<00:55,  2.31s/it]"
     ]
    },
    {
     "name": "stdout",
     "output_type": "stream",
     "text": [
      "Processando imagens do caractere: V\n"
     ]
    },
    {
     "name": "stderr",
     "output_type": "stream",
     "text": [
      "Processando caracteres:  36%|███▌      | 13/36 [00:30<00:52,  2.27s/it]"
     ]
    },
    {
     "name": "stdout",
     "output_type": "stream",
     "text": [
      "Processando imagens do caractere: E\n"
     ]
    },
    {
     "name": "stderr",
     "output_type": "stream",
     "text": [
      "Processando caracteres:  39%|███▉      | 14/36 [00:32<00:49,  2.27s/it]"
     ]
    },
    {
     "name": "stdout",
     "output_type": "stream",
     "text": [
      "Processando imagens do caractere: 8\n"
     ]
    },
    {
     "name": "stderr",
     "output_type": "stream",
     "text": [
      "Processando caracteres:  42%|████▏     | 15/36 [00:35<00:48,  2.29s/it]"
     ]
    },
    {
     "name": "stdout",
     "output_type": "stream",
     "text": [
      "Processando imagens do caractere: 4\n"
     ]
    },
    {
     "name": "stderr",
     "output_type": "stream",
     "text": [
      "Processando caracteres:  44%|████▍     | 16/36 [00:37<00:44,  2.23s/it]"
     ]
    },
    {
     "name": "stdout",
     "output_type": "stream",
     "text": [
      "Processando imagens do caractere: N\n"
     ]
    },
    {
     "name": "stderr",
     "output_type": "stream",
     "text": [
      "Processando caracteres:  47%|████▋     | 17/36 [00:39<00:44,  2.33s/it]"
     ]
    },
    {
     "name": "stdout",
     "output_type": "stream",
     "text": [
      "Processando imagens do caractere: O\n"
     ]
    },
    {
     "name": "stderr",
     "output_type": "stream",
     "text": [
      "Processando caracteres:  50%|█████     | 18/36 [00:42<00:45,  2.52s/it]"
     ]
    },
    {
     "name": "stdout",
     "output_type": "stream",
     "text": [
      "Processando imagens do caractere: 5\n"
     ]
    },
    {
     "name": "stderr",
     "output_type": "stream",
     "text": [
      "Processando caracteres:  53%|█████▎    | 19/36 [00:45<00:42,  2.52s/it]"
     ]
    },
    {
     "name": "stdout",
     "output_type": "stream",
     "text": [
      "Processando imagens do caractere: F\n"
     ]
    },
    {
     "name": "stderr",
     "output_type": "stream",
     "text": [
      "Processando caracteres:  56%|█████▌    | 20/36 [00:48<00:40,  2.54s/it]"
     ]
    },
    {
     "name": "stdout",
     "output_type": "stream",
     "text": [
      "Processando imagens do caractere: C\n"
     ]
    },
    {
     "name": "stderr",
     "output_type": "stream",
     "text": [
      "Processando caracteres:  58%|█████▊    | 21/36 [00:50<00:36,  2.46s/it]"
     ]
    },
    {
     "name": "stdout",
     "output_type": "stream",
     "text": [
      "Processando imagens do caractere: T\n"
     ]
    },
    {
     "name": "stderr",
     "output_type": "stream",
     "text": [
      "Processando caracteres:  61%|██████    | 22/36 [00:52<00:32,  2.32s/it]"
     ]
    },
    {
     "name": "stdout",
     "output_type": "stream",
     "text": [
      "Processando imagens do caractere: 2\n"
     ]
    },
    {
     "name": "stderr",
     "output_type": "stream",
     "text": [
      "Processando caracteres:  64%|██████▍   | 23/36 [00:54<00:29,  2.30s/it]"
     ]
    },
    {
     "name": "stdout",
     "output_type": "stream",
     "text": [
      "Processando imagens do caractere: W\n"
     ]
    },
    {
     "name": "stderr",
     "output_type": "stream",
     "text": [
      "Processando caracteres:  67%|██████▋   | 24/36 [00:56<00:27,  2.27s/it]"
     ]
    },
    {
     "name": "stdout",
     "output_type": "stream",
     "text": [
      "Processando imagens do caractere: 7\n"
     ]
    },
    {
     "name": "stderr",
     "output_type": "stream",
     "text": [
      "Processando caracteres:  69%|██████▉   | 25/36 [00:59<00:26,  2.38s/it]"
     ]
    },
    {
     "name": "stdout",
     "output_type": "stream",
     "text": [
      "Processando imagens do caractere: I\n"
     ]
    },
    {
     "name": "stderr",
     "output_type": "stream",
     "text": [
      "Processando caracteres:  72%|███████▏  | 26/36 [01:01<00:24,  2.43s/it]"
     ]
    },
    {
     "name": "stdout",
     "output_type": "stream",
     "text": [
      "Processando imagens do caractere: H\n"
     ]
    },
    {
     "name": "stderr",
     "output_type": "stream",
     "text": [
      "Processando caracteres:  75%|███████▌  | 27/36 [01:04<00:21,  2.44s/it]"
     ]
    },
    {
     "name": "stdout",
     "output_type": "stream",
     "text": [
      "Processando imagens do caractere: G\n"
     ]
    },
    {
     "name": "stderr",
     "output_type": "stream",
     "text": [
      "Processando caracteres:  78%|███████▊  | 28/36 [01:07<00:20,  2.57s/it]"
     ]
    },
    {
     "name": "stdout",
     "output_type": "stream",
     "text": [
      "Processando imagens do caractere: J\n"
     ]
    },
    {
     "name": "stderr",
     "output_type": "stream",
     "text": [
      "Processando caracteres:  81%|████████  | 29/36 [01:10<00:18,  2.66s/it]"
     ]
    },
    {
     "name": "stdout",
     "output_type": "stream",
     "text": [
      "Processando imagens do caractere: Y\n"
     ]
    },
    {
     "name": "stderr",
     "output_type": "stream",
     "text": [
      "Processando caracteres:  83%|████████▎ | 30/36 [01:12<00:15,  2.65s/it]"
     ]
    },
    {
     "name": "stdout",
     "output_type": "stream",
     "text": [
      "Processando imagens do caractere: 3\n"
     ]
    },
    {
     "name": "stderr",
     "output_type": "stream",
     "text": [
      "Processando caracteres:  86%|████████▌ | 31/36 [01:15<00:12,  2.52s/it]"
     ]
    },
    {
     "name": "stdout",
     "output_type": "stream",
     "text": [
      "Processando imagens do caractere: R\n"
     ]
    },
    {
     "name": "stderr",
     "output_type": "stream",
     "text": [
      "Processando caracteres:  89%|████████▉ | 32/36 [01:17<00:09,  2.48s/it]"
     ]
    },
    {
     "name": "stdout",
     "output_type": "stream",
     "text": [
      "Processando imagens do caractere: P\n"
     ]
    },
    {
     "name": "stderr",
     "output_type": "stream",
     "text": [
      "Processando caracteres:  92%|█████████▏| 33/36 [01:20<00:07,  2.54s/it]"
     ]
    },
    {
     "name": "stdout",
     "output_type": "stream",
     "text": [
      "Processando imagens do caractere: B\n"
     ]
    },
    {
     "name": "stderr",
     "output_type": "stream",
     "text": [
      "Processando caracteres:  94%|█████████▍| 34/36 [01:22<00:05,  2.54s/it]"
     ]
    },
    {
     "name": "stdout",
     "output_type": "stream",
     "text": [
      "Processando imagens do caractere: X\n"
     ]
    },
    {
     "name": "stderr",
     "output_type": "stream",
     "text": [
      "Processando caracteres:  97%|█████████▋| 35/36 [01:25<00:02,  2.68s/it]"
     ]
    },
    {
     "name": "stdout",
     "output_type": "stream",
     "text": [
      "Processando imagens do caractere: Q\n"
     ]
    },
    {
     "name": "stderr",
     "output_type": "stream",
     "text": [
      "Processando caracteres: 100%|██████████| 36/36 [01:27<00:00,  2.44s/it]\n"
     ]
    },
    {
     "name": "stdout",
     "output_type": "stream",
     "text": [
      "Extraindo HOG features de dados/processed/teste...\n"
     ]
    },
    {
     "name": "stderr",
     "output_type": "stream",
     "text": [
      "Processando caracteres:   0%|          | 0/36 [00:00<?, ?it/s]"
     ]
    },
    {
     "name": "stdout",
     "output_type": "stream",
     "text": [
      "Processando imagens do caractere: D\n"
     ]
    },
    {
     "name": "stderr",
     "output_type": "stream",
     "text": [
      "Processando caracteres:   3%|▎         | 1/36 [00:02<01:38,  2.80s/it]"
     ]
    },
    {
     "name": "stdout",
     "output_type": "stream",
     "text": [
      "Processando imagens do caractere: 6\n"
     ]
    },
    {
     "name": "stderr",
     "output_type": "stream",
     "text": [
      "Processando caracteres:   6%|▌         | 2/36 [00:05<01:23,  2.45s/it]"
     ]
    },
    {
     "name": "stdout",
     "output_type": "stream",
     "text": [
      "Processando imagens do caractere: U\n"
     ]
    },
    {
     "name": "stderr",
     "output_type": "stream",
     "text": [
      "Processando caracteres:   8%|▊         | 3/36 [00:07<01:23,  2.52s/it]"
     ]
    },
    {
     "name": "stdout",
     "output_type": "stream",
     "text": [
      "Processando imagens do caractere: M\n"
     ]
    },
    {
     "name": "stderr",
     "output_type": "stream",
     "text": [
      "Processando caracteres:  11%|█         | 4/36 [00:09<01:18,  2.44s/it]"
     ]
    },
    {
     "name": "stdout",
     "output_type": "stream",
     "text": [
      "Processando imagens do caractere: A\n"
     ]
    },
    {
     "name": "stderr",
     "output_type": "stream",
     "text": [
      "Processando caracteres:  14%|█▍        | 5/36 [00:12<01:13,  2.37s/it]"
     ]
    },
    {
     "name": "stdout",
     "output_type": "stream",
     "text": [
      "Processando imagens do caractere: L\n"
     ]
    },
    {
     "name": "stderr",
     "output_type": "stream",
     "text": [
      "Processando caracteres:  17%|█▋        | 6/36 [00:14<01:08,  2.30s/it]"
     ]
    },
    {
     "name": "stdout",
     "output_type": "stream",
     "text": [
      "Processando imagens do caractere: K\n"
     ]
    },
    {
     "name": "stderr",
     "output_type": "stream",
     "text": [
      "Processando caracteres:  19%|█▉        | 7/36 [00:16<01:06,  2.29s/it]"
     ]
    },
    {
     "name": "stdout",
     "output_type": "stream",
     "text": [
      "Processando imagens do caractere: 0\n"
     ]
    },
    {
     "name": "stderr",
     "output_type": "stream",
     "text": [
      "Processando caracteres:  22%|██▏       | 8/36 [00:19<01:05,  2.33s/it]"
     ]
    },
    {
     "name": "stdout",
     "output_type": "stream",
     "text": [
      "Processando imagens do caractere: S\n"
     ]
    },
    {
     "name": "stderr",
     "output_type": "stream",
     "text": [
      "Processando caracteres:  25%|██▌       | 9/36 [00:21<01:02,  2.33s/it]"
     ]
    },
    {
     "name": "stdout",
     "output_type": "stream",
     "text": [
      "Processando imagens do caractere: 9\n"
     ]
    },
    {
     "name": "stderr",
     "output_type": "stream",
     "text": [
      "Processando caracteres:  28%|██▊       | 10/36 [00:23<01:01,  2.37s/it]"
     ]
    },
    {
     "name": "stdout",
     "output_type": "stream",
     "text": [
      "Processando imagens do caractere: 1\n"
     ]
    },
    {
     "name": "stderr",
     "output_type": "stream",
     "text": [
      "Processando caracteres:  31%|███       | 11/36 [00:26<01:02,  2.50s/it]"
     ]
    },
    {
     "name": "stdout",
     "output_type": "stream",
     "text": [
      "Processando imagens do caractere: Z\n"
     ]
    },
    {
     "name": "stderr",
     "output_type": "stream",
     "text": [
      "Processando caracteres:  33%|███▎      | 12/36 [00:29<01:00,  2.53s/it]"
     ]
    },
    {
     "name": "stdout",
     "output_type": "stream",
     "text": [
      "Processando imagens do caractere: V\n"
     ]
    },
    {
     "name": "stderr",
     "output_type": "stream",
     "text": [
      "Processando caracteres:  36%|███▌      | 13/36 [00:31<00:58,  2.54s/it]"
     ]
    },
    {
     "name": "stdout",
     "output_type": "stream",
     "text": [
      "Processando imagens do caractere: E\n"
     ]
    },
    {
     "name": "stderr",
     "output_type": "stream",
     "text": [
      "Processando caracteres:  39%|███▉      | 14/36 [00:34<00:56,  2.55s/it]"
     ]
    },
    {
     "name": "stdout",
     "output_type": "stream",
     "text": [
      "Processando imagens do caractere: 8\n"
     ]
    },
    {
     "name": "stderr",
     "output_type": "stream",
     "text": [
      "Processando caracteres:  42%|████▏     | 15/36 [00:36<00:50,  2.42s/it]"
     ]
    },
    {
     "name": "stdout",
     "output_type": "stream",
     "text": [
      "Processando imagens do caractere: 4\n"
     ]
    },
    {
     "name": "stderr",
     "output_type": "stream",
     "text": [
      "Processando caracteres:  44%|████▍     | 16/36 [00:38<00:47,  2.37s/it]"
     ]
    },
    {
     "name": "stdout",
     "output_type": "stream",
     "text": [
      "Processando imagens do caractere: N\n"
     ]
    },
    {
     "name": "stderr",
     "output_type": "stream",
     "text": [
      "Processando caracteres:  47%|████▋     | 17/36 [00:41<00:48,  2.55s/it]"
     ]
    },
    {
     "name": "stdout",
     "output_type": "stream",
     "text": [
      "Processando imagens do caractere: O\n"
     ]
    },
    {
     "name": "stderr",
     "output_type": "stream",
     "text": [
      "Processando caracteres:  50%|█████     | 18/36 [00:44<00:49,  2.74s/it]"
     ]
    },
    {
     "name": "stdout",
     "output_type": "stream",
     "text": [
      "Processando imagens do caractere: 5\n"
     ]
    },
    {
     "name": "stderr",
     "output_type": "stream",
     "text": [
      "Processando caracteres:  53%|█████▎    | 19/36 [00:47<00:44,  2.63s/it]"
     ]
    },
    {
     "name": "stdout",
     "output_type": "stream",
     "text": [
      "Processando imagens do caractere: F\n"
     ]
    },
    {
     "name": "stderr",
     "output_type": "stream",
     "text": [
      "Processando caracteres:  56%|█████▌    | 20/36 [00:49<00:39,  2.48s/it]"
     ]
    },
    {
     "name": "stdout",
     "output_type": "stream",
     "text": [
      "Processando imagens do caractere: C\n"
     ]
    },
    {
     "name": "stderr",
     "output_type": "stream",
     "text": [
      "Processando caracteres:  58%|█████▊    | 21/36 [00:51<00:36,  2.44s/it]"
     ]
    },
    {
     "name": "stdout",
     "output_type": "stream",
     "text": [
      "Processando imagens do caractere: T\n"
     ]
    },
    {
     "name": "stderr",
     "output_type": "stream",
     "text": [
      "Processando caracteres:  61%|██████    | 22/36 [00:53<00:32,  2.33s/it]"
     ]
    },
    {
     "name": "stdout",
     "output_type": "stream",
     "text": [
      "Processando imagens do caractere: 2\n"
     ]
    },
    {
     "name": "stderr",
     "output_type": "stream",
     "text": [
      "Processando caracteres:  64%|██████▍   | 23/36 [00:56<00:30,  2.34s/it]"
     ]
    },
    {
     "name": "stdout",
     "output_type": "stream",
     "text": [
      "Processando imagens do caractere: W\n"
     ]
    },
    {
     "name": "stderr",
     "output_type": "stream",
     "text": [
      "Processando caracteres:  67%|██████▋   | 24/36 [00:58<00:29,  2.49s/it]"
     ]
    },
    {
     "name": "stdout",
     "output_type": "stream",
     "text": [
      "Processando imagens do caractere: 7\n"
     ]
    },
    {
     "name": "stderr",
     "output_type": "stream",
     "text": [
      "Processando caracteres:  69%|██████▉   | 25/36 [01:01<00:27,  2.50s/it]"
     ]
    },
    {
     "name": "stdout",
     "output_type": "stream",
     "text": [
      "Processando imagens do caractere: I\n"
     ]
    },
    {
     "name": "stderr",
     "output_type": "stream",
     "text": [
      "Processando caracteres:  72%|███████▏  | 26/36 [01:04<00:25,  2.54s/it]"
     ]
    },
    {
     "name": "stdout",
     "output_type": "stream",
     "text": [
      "Processando imagens do caractere: H\n"
     ]
    },
    {
     "name": "stderr",
     "output_type": "stream",
     "text": [
      "Processando caracteres:  75%|███████▌  | 27/36 [01:06<00:22,  2.50s/it]"
     ]
    },
    {
     "name": "stdout",
     "output_type": "stream",
     "text": [
      "Processando imagens do caractere: G\n"
     ]
    },
    {
     "name": "stderr",
     "output_type": "stream",
     "text": [
      "Processando caracteres:  78%|███████▊  | 28/36 [01:08<00:19,  2.47s/it]"
     ]
    },
    {
     "name": "stdout",
     "output_type": "stream",
     "text": [
      "Processando imagens do caractere: J\n"
     ]
    },
    {
     "name": "stderr",
     "output_type": "stream",
     "text": [
      "Processando caracteres:  81%|████████  | 29/36 [01:10<00:16,  2.33s/it]"
     ]
    },
    {
     "name": "stdout",
     "output_type": "stream",
     "text": [
      "Processando imagens do caractere: Y\n"
     ]
    },
    {
     "name": "stderr",
     "output_type": "stream",
     "text": [
      "Processando caracteres:  83%|████████▎ | 30/36 [01:13<00:13,  2.33s/it]"
     ]
    },
    {
     "name": "stdout",
     "output_type": "stream",
     "text": [
      "Processando imagens do caractere: 3\n"
     ]
    },
    {
     "name": "stderr",
     "output_type": "stream",
     "text": [
      "Processando caracteres:  86%|████████▌ | 31/36 [01:15<00:11,  2.30s/it]"
     ]
    },
    {
     "name": "stdout",
     "output_type": "stream",
     "text": [
      "Processando imagens do caractere: R\n"
     ]
    },
    {
     "name": "stderr",
     "output_type": "stream",
     "text": [
      "Processando caracteres:  89%|████████▉ | 32/36 [01:18<00:09,  2.41s/it]"
     ]
    },
    {
     "name": "stdout",
     "output_type": "stream",
     "text": [
      "Processando imagens do caractere: P\n"
     ]
    },
    {
     "name": "stderr",
     "output_type": "stream",
     "text": [
      "Processando caracteres:  92%|█████████▏| 33/36 [01:20<00:07,  2.45s/it]"
     ]
    },
    {
     "name": "stdout",
     "output_type": "stream",
     "text": [
      "Processando imagens do caractere: B\n"
     ]
    },
    {
     "name": "stderr",
     "output_type": "stream",
     "text": [
      "Processando caracteres:  94%|█████████▍| 34/36 [01:22<00:04,  2.36s/it]"
     ]
    },
    {
     "name": "stdout",
     "output_type": "stream",
     "text": [
      "Processando imagens do caractere: X\n"
     ]
    },
    {
     "name": "stderr",
     "output_type": "stream",
     "text": [
      "Processando caracteres:  97%|█████████▋| 35/36 [01:25<00:02,  2.49s/it]"
     ]
    },
    {
     "name": "stdout",
     "output_type": "stream",
     "text": [
      "Processando imagens do caractere: Q\n"
     ]
    },
    {
     "name": "stderr",
     "output_type": "stream",
     "text": [
      "Processando caracteres: 100%|██████████| 36/36 [01:28<00:00,  2.45s/it]\n"
     ]
    }
   ],
   "source": [
    "df_train = create_features_df(train_dir)\n",
    "df_val = create_features_df(val_dir)\n",
    "df_test = create_features_df(test_dir)\n",
    "\n",
    "# Usando data augmentation (descomente para usar)\n",
    "# df_train = create_features_df(train_dir, use_augmentation=True, min_samples_per_class=50)\n",
    "# df_val = create_features_df(val_dir, use_augmentation=True, min_samples_per_class=50)\n",
    "# df_test = create_features_df(test_dir, use_augmentation=True, min_samples_per_class=50)"
   ]
  },
  {
   "cell_type": "code",
   "execution_count": 32,
   "id": "3c819463",
   "metadata": {},
   "outputs": [
    {
     "data": {
      "text/html": [
       "<div>\n",
       "<style scoped>\n",
       "    .dataframe tbody tr th:only-of-type {\n",
       "        vertical-align: middle;\n",
       "    }\n",
       "\n",
       "    .dataframe tbody tr th {\n",
       "        vertical-align: top;\n",
       "    }\n",
       "\n",
       "    .dataframe thead th {\n",
       "        text-align: right;\n",
       "    }\n",
       "</style>\n",
       "<table border=\"1\" class=\"dataframe\">\n",
       "  <thead>\n",
       "    <tr style=\"text-align: right;\">\n",
       "      <th></th>\n",
       "      <th>label</th>\n",
       "      <th>original_image</th>\n",
       "      <th>feature_0</th>\n",
       "      <th>feature_1</th>\n",
       "      <th>feature_2</th>\n",
       "      <th>feature_3</th>\n",
       "      <th>feature_4</th>\n",
       "      <th>feature_5</th>\n",
       "      <th>feature_6</th>\n",
       "      <th>feature_7</th>\n",
       "      <th>...</th>\n",
       "      <th>feature_3770</th>\n",
       "      <th>feature_3771</th>\n",
       "      <th>feature_3772</th>\n",
       "      <th>feature_3773</th>\n",
       "      <th>feature_3774</th>\n",
       "      <th>feature_3775</th>\n",
       "      <th>feature_3776</th>\n",
       "      <th>feature_3777</th>\n",
       "      <th>feature_3778</th>\n",
       "      <th>feature_3779</th>\n",
       "    </tr>\n",
       "  </thead>\n",
       "  <tbody>\n",
       "    <tr>\n",
       "      <th>1941</th>\n",
       "      <td>Z</td>\n",
       "      <td>009001</td>\n",
       "      <td>0.000000</td>\n",
       "      <td>0.000000</td>\n",
       "      <td>0.000000</td>\n",
       "      <td>0.000000</td>\n",
       "      <td>0.000000</td>\n",
       "      <td>0.000000</td>\n",
       "      <td>0.000000</td>\n",
       "      <td>0.000000</td>\n",
       "      <td>...</td>\n",
       "      <td>0.002272</td>\n",
       "      <td>0.002615</td>\n",
       "      <td>0.002272</td>\n",
       "      <td>0.004133</td>\n",
       "      <td>0.010154</td>\n",
       "      <td>0.005973</td>\n",
       "      <td>0.005920</td>\n",
       "      <td>0.004404</td>\n",
       "      <td>0.007191</td>\n",
       "      <td>0.003321</td>\n",
       "    </tr>\n",
       "    <tr>\n",
       "      <th>2628</th>\n",
       "      <td>4</td>\n",
       "      <td>009001</td>\n",
       "      <td>0.000000</td>\n",
       "      <td>0.000000</td>\n",
       "      <td>0.000000</td>\n",
       "      <td>0.000000</td>\n",
       "      <td>0.000000</td>\n",
       "      <td>0.000000</td>\n",
       "      <td>0.000000</td>\n",
       "      <td>0.000000</td>\n",
       "      <td>...</td>\n",
       "      <td>0.000000</td>\n",
       "      <td>0.000000</td>\n",
       "      <td>0.000000</td>\n",
       "      <td>0.000000</td>\n",
       "      <td>0.000000</td>\n",
       "      <td>0.000000</td>\n",
       "      <td>0.000000</td>\n",
       "      <td>0.000000</td>\n",
       "      <td>0.000000</td>\n",
       "      <td>0.000000</td>\n",
       "    </tr>\n",
       "    <tr>\n",
       "      <th>3286</th>\n",
       "      <td>F</td>\n",
       "      <td>009001</td>\n",
       "      <td>0.000000</td>\n",
       "      <td>0.000000</td>\n",
       "      <td>0.000000</td>\n",
       "      <td>0.000000</td>\n",
       "      <td>0.000000</td>\n",
       "      <td>0.000000</td>\n",
       "      <td>0.000000</td>\n",
       "      <td>0.000000</td>\n",
       "      <td>...</td>\n",
       "      <td>0.000000</td>\n",
       "      <td>0.000000</td>\n",
       "      <td>0.000000</td>\n",
       "      <td>0.000000</td>\n",
       "      <td>0.000000</td>\n",
       "      <td>0.000000</td>\n",
       "      <td>0.000000</td>\n",
       "      <td>0.000000</td>\n",
       "      <td>0.000000</td>\n",
       "      <td>0.000000</td>\n",
       "    </tr>\n",
       "    <tr>\n",
       "      <th>3557</th>\n",
       "      <td>C</td>\n",
       "      <td>009001</td>\n",
       "      <td>0.000000</td>\n",
       "      <td>0.000000</td>\n",
       "      <td>0.000000</td>\n",
       "      <td>0.000000</td>\n",
       "      <td>0.000000</td>\n",
       "      <td>0.000000</td>\n",
       "      <td>0.000000</td>\n",
       "      <td>0.000000</td>\n",
       "      <td>...</td>\n",
       "      <td>0.092752</td>\n",
       "      <td>0.066559</td>\n",
       "      <td>0.022838</td>\n",
       "      <td>0.033242</td>\n",
       "      <td>0.021530</td>\n",
       "      <td>0.014327</td>\n",
       "      <td>0.000000</td>\n",
       "      <td>0.008310</td>\n",
       "      <td>0.024931</td>\n",
       "      <td>0.022838</td>\n",
       "    </tr>\n",
       "    <tr>\n",
       "      <th>4006</th>\n",
       "      <td>W</td>\n",
       "      <td>009001</td>\n",
       "      <td>0.212426</td>\n",
       "      <td>0.130196</td>\n",
       "      <td>0.126892</td>\n",
       "      <td>0.110733</td>\n",
       "      <td>0.181362</td>\n",
       "      <td>0.221279</td>\n",
       "      <td>0.117677</td>\n",
       "      <td>0.137009</td>\n",
       "      <td>...</td>\n",
       "      <td>0.001327</td>\n",
       "      <td>0.000128</td>\n",
       "      <td>0.000000</td>\n",
       "      <td>0.001094</td>\n",
       "      <td>0.002274</td>\n",
       "      <td>0.007720</td>\n",
       "      <td>0.006784</td>\n",
       "      <td>0.005548</td>\n",
       "      <td>0.006157</td>\n",
       "      <td>0.001503</td>\n",
       "    </tr>\n",
       "    <tr>\n",
       "      <th>4828</th>\n",
       "      <td>J</td>\n",
       "      <td>009001</td>\n",
       "      <td>0.005325</td>\n",
       "      <td>0.000785</td>\n",
       "      <td>0.000548</td>\n",
       "      <td>0.000517</td>\n",
       "      <td>0.002006</td>\n",
       "      <td>0.002802</td>\n",
       "      <td>0.001974</td>\n",
       "      <td>0.002502</td>\n",
       "      <td>...</td>\n",
       "      <td>0.000514</td>\n",
       "      <td>0.000682</td>\n",
       "      <td>0.001542</td>\n",
       "      <td>0.000679</td>\n",
       "      <td>0.000942</td>\n",
       "      <td>0.001556</td>\n",
       "      <td>0.001395</td>\n",
       "      <td>0.001468</td>\n",
       "      <td>0.001452</td>\n",
       "      <td>0.000489</td>\n",
       "    </tr>\n",
       "  </tbody>\n",
       "</table>\n",
       "<p>6 rows × 3782 columns</p>\n",
       "</div>"
      ],
      "text/plain": [
       "     label original_image  feature_0  feature_1  feature_2  feature_3  \\\n",
       "1941     Z         009001   0.000000   0.000000   0.000000   0.000000   \n",
       "2628     4         009001   0.000000   0.000000   0.000000   0.000000   \n",
       "3286     F         009001   0.000000   0.000000   0.000000   0.000000   \n",
       "3557     C         009001   0.000000   0.000000   0.000000   0.000000   \n",
       "4006     W         009001   0.212426   0.130196   0.126892   0.110733   \n",
       "4828     J         009001   0.005325   0.000785   0.000548   0.000517   \n",
       "\n",
       "      feature_4  feature_5  feature_6  feature_7  ...  feature_3770  \\\n",
       "1941   0.000000   0.000000   0.000000   0.000000  ...      0.002272   \n",
       "2628   0.000000   0.000000   0.000000   0.000000  ...      0.000000   \n",
       "3286   0.000000   0.000000   0.000000   0.000000  ...      0.000000   \n",
       "3557   0.000000   0.000000   0.000000   0.000000  ...      0.092752   \n",
       "4006   0.181362   0.221279   0.117677   0.137009  ...      0.001327   \n",
       "4828   0.002006   0.002802   0.001974   0.002502  ...      0.000514   \n",
       "\n",
       "      feature_3771  feature_3772  feature_3773  feature_3774  feature_3775  \\\n",
       "1941      0.002615      0.002272      0.004133      0.010154      0.005973   \n",
       "2628      0.000000      0.000000      0.000000      0.000000      0.000000   \n",
       "3286      0.000000      0.000000      0.000000      0.000000      0.000000   \n",
       "3557      0.066559      0.022838      0.033242      0.021530      0.014327   \n",
       "4006      0.000128      0.000000      0.001094      0.002274      0.007720   \n",
       "4828      0.000682      0.001542      0.000679      0.000942      0.001556   \n",
       "\n",
       "      feature_3776  feature_3777  feature_3778  feature_3779  \n",
       "1941      0.005920      0.004404      0.007191      0.003321  \n",
       "2628      0.000000      0.000000      0.000000      0.000000  \n",
       "3286      0.000000      0.000000      0.000000      0.000000  \n",
       "3557      0.000000      0.008310      0.024931      0.022838  \n",
       "4006      0.006784      0.005548      0.006157      0.001503  \n",
       "4828      0.001395      0.001468      0.001452      0.000489  \n",
       "\n",
       "[6 rows x 3782 columns]"
      ]
     },
     "execution_count": 32,
     "metadata": {},
     "output_type": "execute_result"
    }
   ],
   "source": [
    "df_test[df_test['original_image'] == '009001']"
   ]
  },
  {
   "cell_type": "code",
   "execution_count": 33,
   "id": "06241109",
   "metadata": {},
   "outputs": [],
   "source": [
    "df_train['label'] = df_train['label'].astype(str)\n",
    "df_val['label'] = df_val['label'].astype(str)\n",
    "df_test['label'] = df_test['label'].astype(str)"
   ]
  },
  {
   "cell_type": "code",
   "execution_count": 38,
   "id": "2d6155e6",
   "metadata": {},
   "outputs": [],
   "source": [
    "X_train = df_train.drop(columns=['label', 'original_image'])\n",
    "\n",
    "labels = sorted(df_train['label'].unique())\n",
    "dict_labels = {label: idx for idx, label in enumerate(labels)}\n",
    "y_train = df_train['label']\n",
    "X_val = df_val.drop(columns=['label', 'original_image'])\n",
    "y_val = df_val['label']\n",
    "X_test = df_test.drop(columns=['label', 'original_image'])\n",
    "y_test = df_test['label']\n",
    "y_original_images = df_test['original_image']\n",
    "\n",
    "# Normalizando os dados (importante para SVM e MLP)\n",
    "scaler = StandardScaler()\n",
    "X_train_scaled = scaler.fit_transform(X_train)\n",
    "X_val_scaled = scaler.transform(X_val)\n",
    "X_test_scaled = scaler.transform(X_test)\n",
    "\n",
    "# Garantindo que todos os dados são numéricos\n",
    "X_train_scaled = np.asarray(X_train_scaled, dtype=np.float32)\n",
    "X_val_scaled = np.asarray(X_val_scaled, dtype=np.float32)\n",
    "X_test_scaled = np.asarray(X_test_scaled, dtype=np.float32)\n",
    "\n",
    "label_encoder = LabelEncoder()\n",
    "y_train_encoded = label_encoder.fit_transform(y_train)\n",
    "y_val_encoded = label_encoder.transform(y_val)\n",
    "y_test_encoded = label_encoder.transform(y_test)"
   ]
  },
  {
   "cell_type": "code",
   "execution_count": 39,
   "id": "ef986f23",
   "metadata": {},
   "outputs": [
    {
     "name": "stdout",
     "output_type": "stream",
     "text": [
      "Different types in X_train: [dtype('float64')]\n",
      "Different types in y_train: 0        D\n",
      "1        D\n",
      "2        D\n",
      "3        D\n",
      "4        D\n",
      "        ..\n",
      "47863    Q\n",
      "47864    Q\n",
      "47865    Q\n",
      "47866    Q\n",
      "47867    Q\n",
      "Name: label, Length: 47868, dtype: object\n"
     ]
    }
   ],
   "source": [
    "print(f'Different types in X_train: {X_train.dtypes.unique()}')\n",
    "print(f'Different types in y_train: {y_train}')"
   ]
  },
  {
   "cell_type": "code",
   "execution_count": null,
   "id": "10a54d8c",
   "metadata": {},
   "outputs": [
    {
     "name": "stdout",
     "output_type": "stream",
     "text": [
      "Treinando RandomForestClassifier...\n",
      "Acurácia - Treinamento (RandomForestClassifier): 1.0\n",
      "Acurácia - Validação (RandomForestClassifier): 0.7744411077744411\n",
      "Acurácia - Teste (RandomForestClassifier): 0.7824491157824491\n",
      "Relatório de Classificação - Teste (RandomForestClassifier):\n",
      "              precision    recall  f1-score   support\n",
      "\n",
      "           0       0.92      0.68      0.78       177\n",
      "           1       0.73      0.79      0.76       170\n",
      "           2       0.76      0.90      0.82       162\n",
      "           3       0.74      0.85      0.79       163\n",
      "           4       0.91      0.96      0.93       160\n",
      "           5       0.75      0.72      0.74       167\n",
      "           6       0.66      0.79      0.72       161\n",
      "           7       0.91      0.78      0.84       156\n",
      "           8       0.72      0.71      0.72       154\n",
      "           9       0.87      0.85      0.86       172\n",
      "           A       0.92      0.94      0.93       161\n",
      "           B       0.69      0.73      0.71       148\n",
      "           C       0.62      0.53      0.57       166\n",
      "           D       0.70      0.70      0.70       178\n",
      "           E       0.61      0.85      0.71       185\n",
      "           F       0.74      0.65      0.69       154\n",
      "           G       0.72      0.81      0.76       172\n",
      "           H       0.81      0.79      0.80       154\n",
      "           I       0.75      0.67      0.71       162\n",
      "           J       0.89      0.81      0.85       145\n",
      "           K       0.91      0.90      0.91       165\n",
      "           L       0.75      0.58      0.65       157\n",
      "           M       0.93      0.86      0.89       162\n",
      "           N       0.91      0.93      0.92       182\n",
      "           O       0.54      0.45      0.49       196\n",
      "           P       0.79      0.78      0.78       160\n",
      "           Q       0.75      0.76      0.75       165\n",
      "           R       0.83      0.87      0.85       174\n",
      "           S       0.68      0.75      0.71       167\n",
      "           T       0.74      0.75      0.75       138\n",
      "           U       0.83      0.66      0.74       168\n",
      "           V       0.80      0.85      0.82       189\n",
      "           W       0.81      0.84      0.82       179\n",
      "           X       0.91      0.90      0.90       168\n",
      "           Y       0.86      0.94      0.90       171\n",
      "           Z       0.85      0.85      0.85       186\n",
      "\n",
      "    accuracy                           0.78      5994\n",
      "   macro avg       0.79      0.78      0.78      5994\n",
      "weighted avg       0.79      0.78      0.78      5994\n",
      "\n"
     ]
    },
    {
     "data": {
      "text/plain": [
       "<Figure size 800x800 with 0 Axes>"
      ]
     },
     "metadata": {},
     "output_type": "display_data"
    },
    {
     "data": {
      "image/png": "[encoded data removed]",
      "text/plain": [
       "<Figure size 640x480 with 2 Axes>"
      ]
     },
     "metadata": {},
     "output_type": "display_data"
    },
    {
     "name": "stdout",
     "output_type": "stream",
     "text": [
      "Treinando XGBClassifier...\n"
     ]
    },
    {
     "name": "stderr",
     "output_type": "stream",
     "text": [
      "/home/rafael-gomes/Desktop/others/TP2-ICV/.venv/lib/python3.12/site-packages/xgboost/training.py:183: UserWarning: [19:18:53] WARNING: /workspace/src/learner.cc:738: \n",
      "Parameters: { \"use_label_encoder\" } are not used.\n",
      "\n",
      "  bst.update(dtrain, iteration=i, fobj=obj)\n"
     ]
    }
   ],
   "source": [
    "from sklearn.model_selection import GridSearchCV\n",
    "\n",
    "param_grids = {\n",
    "    RandomForestClassifier: {\n",
    "        'n_estimators': [50, 100, 200],\n",
    "        'max_depth': [None, 10, 20],\n",
    "    },\n",
    "    XGBClassifier: {\n",
    "        'n_estimators': [50, 100, 200],\n",
    "        'max_depth': [3, 6, 9],\n",
    "        'learning_rate': [0.01, 0.1, 0.2],\n",
    "        'subsample': [0.8, 0.9, 1.0],\n",
    "    },\n",
    "    # DecisionTreeClassifier: {\n",
    "    #     'max_depth': [None, 10, 20, 30],\n",
    "    #     'min_samples_split': [2, 5, 10],\n",
    "    # },\n",
    "    # KNeighborsClassifier: {\n",
    "    #     'n_neighbors': [3, 5, 7],\n",
    "    #     'weights': ['uniform', 'distance'],\n",
    "    # },\n",
    "    SVC: {\n",
    "        'C': [0.1, 1, 10, 100],\n",
    "        'gamma': ['scale', 'auto', 0.01, 0.1],\n",
    "        'kernel': ['rbf', 'poly', 'sigmoid']\n",
    "    }\n",
    "}\n",
    "\n",
    "models = [\n",
    "    RandomForestClassifier(random_state=42),\n",
    "    XGBClassifier(random_state=42, use_label_encoder=False, eval_metric='mlogloss')\n",
    "    # DecisionTreeClassifier(random_state=42),\n",
    "    # # MLPClassifier(random_state=42, max_iter=500),\n",
    "    # KNeighborsClassifier(),\n",
    "    # SVC(random_state=42)\n",
    "]\n",
    "\n",
    "results = {}\n",
    "\n",
    "for model in models:\n",
    "    print(f\"Treinando {model.__class__.__name__}...\")\n",
    "    # Usando os dados normalizados para o treinamento\n",
    "    if isinstance(model, XGBClassifier):\n",
    "        model.fit(X_train_scaled, y_train_encoded, eval_set=[(X_val_scaled, y_val_encoded)], verbose=False)\n",
    "        \n",
    "        # Previsões com dados codificados\n",
    "        y_pred_train_encoded = model.predict(X_train_scaled)\n",
    "        y_pred_val_encoded = model.predict(X_val_scaled)\n",
    "        y_pred_test_encoded = model.predict(X_test_scaled)\n",
    "        \n",
    "        # Converta as previsões de volta para as classes originais\n",
    "        y_pred_train = label_encoder.inverse_transform(y_pred_train_encoded)\n",
    "        y_pred_val = label_encoder.inverse_transform(y_pred_val_encoded)\n",
    "        y_pred_test = label_encoder.inverse_transform(y_pred_test_encoded)\n",
    "        \n",
    "        train_acc = np.mean(y_pred_train == y_train)\n",
    "        val_acc = np.mean(y_pred_val == y_val)\n",
    "        test_acc = np.mean(y_pred_test == y_test)\n",
    "    \n",
    "    else:\n",
    "        model.fit(X_train_scaled, y_train)\n",
    "        \n",
    "        # Avaliação nos conjuntos de treinamento, validação e teste (usando dados normalizados)\n",
    "        y_pred_train = model.predict(X_train_scaled)\n",
    "        y_pred_val = model.predict(X_val_scaled)\n",
    "        y_pred_test = model.predict(X_test_scaled)\n",
    "\n",
    "        train_acc = model.score(X_train_scaled, y_train)\n",
    "        val_acc = model.score(X_val_scaled, y_val)\n",
    "        test_acc = model.score(X_test_scaled, y_test)\n",
    "    \n",
    "    print(f\"Acurácia - Treinamento ({model.__class__.__name__}):\", train_acc)\n",
    "    print(f\"Acurácia - Validação ({model.__class__.__name__}):\", val_acc)\n",
    "    print(f\"Acurácia - Teste ({model.__class__.__name__}):\", test_acc)\n",
    "    \n",
    "    print(f\"Relatório de Classificação - Teste ({model.__class__.__name__}):\") \n",
    "    print(classification_report(y_test, y_pred_test))\n",
    "    \n",
    "    cm = confusion_matrix(y_test, y_pred_test)\n",
    "    plt.figure(figsize=(8, 8))\n",
    "    disp = ConfusionMatrixDisplay(confusion_matrix=cm, display_labels=model.classes_)\n",
    "    disp.plot(cmap=plt.cm.Blues)\n",
    "    plt.title(f\"Matriz de Confusão - Teste ({model.__class__.__name__})\")\n",
    "    plt.show()\n",
    "    \n",
    "    # Armazenar resultados para comparação\n",
    "    results[model.__class__.__name__] = {\n",
    "        'train_acc': train_acc,\n",
    "        'val_acc': val_acc,\n",
    "        'test_acc': test_acc,\n",
    "        'model': model\n",
    "    }"
   ]
  },
  {
   "cell_type": "code",
   "execution_count": null,
   "id": "d8214132",
   "metadata": {},
   "outputs": [
    {
     "name": "stdout",
     "output_type": "stream",
     "text": [
      "Melhor modelo: RandomForestClassifier com acurácia de teste: 0.7824\n",
      "Executando GridSearchCV para RandomForestClassifier...\n"
     ]
    },
    {
     "name": "stderr",
     "output_type": "stream",
     "text": [
      "/home/rafael-gomes/Desktop/others/TP2-ICV/.venv/lib/python3.12/site-packages/sklearn/utils/_response.py:203: UserWarning: The number of unique classes is greater than 50% of the number of samples.\n",
      "  target_type = type_of_target(classes)\n",
      "/home/rafael-gomes/Desktop/others/TP2-ICV/.venv/lib/python3.12/site-packages/sklearn/utils/_response.py:203: UserWarning: The number of unique classes is greater than 50% of the number of samples.\n",
      "  target_type = type_of_target(classes)\n",
      "/home/rafael-gomes/Desktop/others/TP2-ICV/.venv/lib/python3.12/site-packages/sklearn/utils/_response.py:203: UserWarning: The number of unique classes is greater than 50% of the number of samples.\n",
      "  target_type = type_of_target(classes)\n",
      "/home/rafael-gomes/Desktop/others/TP2-ICV/.venv/lib/python3.12/site-packages/sklearn/utils/_response.py:203: UserWarning: The number of unique classes is greater than 50% of the number of samples.\n",
      "  target_type = type_of_target(classes)\n",
      "/home/rafael-gomes/Desktop/others/TP2-ICV/.venv/lib/python3.12/site-packages/sklearn/utils/_response.py:203: UserWarning: The number of unique classes is greater than 50% of the number of samples.\n",
      "  target_type = type_of_target(classes)\n",
      "/home/rafael-gomes/Desktop/others/TP2-ICV/.venv/lib/python3.12/site-packages/sklearn/utils/_response.py:203: UserWarning: The number of unique classes is greater than 50% of the number of samples.\n",
      "  target_type = type_of_target(classes)\n",
      "/home/rafael-gomes/Desktop/others/TP2-ICV/.venv/lib/python3.12/site-packages/sklearn/utils/_response.py:203: UserWarning: The number of unique classes is greater than 50% of the number of samples.\n",
      "  target_type = type_of_target(classes)\n",
      "/home/rafael-gomes/Desktop/others/TP2-ICV/.venv/lib/python3.12/site-packages/sklearn/utils/_response.py:203: UserWarning: The number of unique classes is greater than 50% of the number of samples.\n",
      "  target_type = type_of_target(classes)\n",
      "/home/rafael-gomes/Desktop/others/TP2-ICV/.venv/lib/python3.12/site-packages/sklearn/utils/_response.py:203: UserWarning: The number of unique classes is greater than 50% of the number of samples.\n",
      "  target_type = type_of_target(classes)\n",
      "/home/rafael-gomes/Desktop/others/TP2-ICV/.venv/lib/python3.12/site-packages/sklearn/utils/_response.py:203: UserWarning: The number of unique classes is greater than 50% of the number of samples.\n",
      "  target_type = type_of_target(classes)\n",
      "/home/rafael-gomes/Desktop/others/TP2-ICV/.venv/lib/python3.12/site-packages/sklearn/utils/_response.py:203: UserWarning: The number of unique classes is greater than 50% of the number of samples.\n",
      "  target_type = type_of_target(classes)\n",
      "/home/rafael-gomes/Desktop/others/TP2-ICV/.venv/lib/python3.12/site-packages/sklearn/utils/_response.py:203: UserWarning: The number of unique classes is greater than 50% of the number of samples.\n",
      "  target_type = type_of_target(classes)\n",
      "/home/rafael-gomes/Desktop/others/TP2-ICV/.venv/lib/python3.12/site-packages/sklearn/utils/_response.py:203: UserWarning: The number of unique classes is greater than 50% of the number of samples.\n",
      "  target_type = type_of_target(classes)\n",
      "/home/rafael-gomes/Desktop/others/TP2-ICV/.venv/lib/python3.12/site-packages/sklearn/utils/_response.py:203: UserWarning: The number of unique classes is greater than 50% of the number of samples.\n",
      "  target_type = type_of_target(classes)\n",
      "/home/rafael-gomes/Desktop/others/TP2-ICV/.venv/lib/python3.12/site-packages/sklearn/utils/_response.py:203: UserWarning: The number of unique classes is greater than 50% of the number of samples.\n",
      "  target_type = type_of_target(classes)\n",
      "/home/rafael-gomes/Desktop/others/TP2-ICV/.venv/lib/python3.12/site-packages/sklearn/utils/_response.py:203: UserWarning: The number of unique classes is greater than 50% of the number of samples.\n",
      "  target_type = type_of_target(classes)\n",
      "/home/rafael-gomes/Desktop/others/TP2-ICV/.venv/lib/python3.12/site-packages/sklearn/utils/_response.py:203: UserWarning: The number of unique classes is greater than 50% of the number of samples.\n",
      "  target_type = type_of_target(classes)\n",
      "/home/rafael-gomes/Desktop/others/TP2-ICV/.venv/lib/python3.12/site-packages/sklearn/utils/_response.py:203: UserWarning: The number of unique classes is greater than 50% of the number of samples.\n",
      "  target_type = type_of_target(classes)\n",
      "/home/rafael-gomes/Desktop/others/TP2-ICV/.venv/lib/python3.12/site-packages/sklearn/utils/_response.py:203: UserWarning: The number of unique classes is greater than 50% of the number of samples.\n",
      "  target_type = type_of_target(classes)\n",
      "/home/rafael-gomes/Desktop/others/TP2-ICV/.venv/lib/python3.12/site-packages/sklearn/utils/_response.py:203: UserWarning: The number of unique classes is greater than 50% of the number of samples.\n",
      "  target_type = type_of_target(classes)\n",
      "/home/rafael-gomes/Desktop/others/TP2-ICV/.venv/lib/python3.12/site-packages/sklearn/utils/_response.py:203: UserWarning: The number of unique classes is greater than 50% of the number of samples.\n",
      "  target_type = type_of_target(classes)\n",
      "/home/rafael-gomes/Desktop/others/TP2-ICV/.venv/lib/python3.12/site-packages/sklearn/utils/_response.py:203: UserWarning: The number of unique classes is greater than 50% of the number of samples.\n",
      "  target_type = type_of_target(classes)\n",
      "/home/rafael-gomes/Desktop/others/TP2-ICV/.venv/lib/python3.12/site-packages/sklearn/utils/_response.py:203: UserWarning: The number of unique classes is greater than 50% of the number of samples.\n",
      "  target_type = type_of_target(classes)\n",
      "/home/rafael-gomes/Desktop/others/TP2-ICV/.venv/lib/python3.12/site-packages/sklearn/utils/_response.py:203: UserWarning: The number of unique classes is greater than 50% of the number of samples.\n",
      "  target_type = type_of_target(classes)\n",
      "/home/rafael-gomes/Desktop/others/TP2-ICV/.venv/lib/python3.12/site-packages/sklearn/utils/_response.py:203: UserWarning: The number of unique classes is greater than 50% of the number of samples.\n",
      "  target_type = type_of_target(classes)\n",
      "/home/rafael-gomes/Desktop/others/TP2-ICV/.venv/lib/python3.12/site-packages/sklearn/utils/_response.py:203: UserWarning: The number of unique classes is greater than 50% of the number of samples.\n",
      "  target_type = type_of_target(classes)\n",
      "/home/rafael-gomes/Desktop/others/TP2-ICV/.venv/lib/python3.12/site-packages/sklearn/utils/_response.py:203: UserWarning: The number of unique classes is greater than 50% of the number of samples.\n",
      "  target_type = type_of_target(classes)\n"
     ]
    },
    {
     "ename": "KeyboardInterrupt",
     "evalue": "",
     "output_type": "error",
     "traceback": [
      "\u001b[31m---------------------------------------------------------------------------\u001b[39m",
      "\u001b[31mKeyboardInterrupt\u001b[39m                         Traceback (most recent call last)",
      "\u001b[36mCell\u001b[39m\u001b[36m \u001b[39m\u001b[32mIn[17]\u001b[39m\u001b[32m, line 24\u001b[39m\n\u001b[32m     22\u001b[39m \u001b[38;5;28mprint\u001b[39m(\u001b[33mf\u001b[39m\u001b[33m\"\u001b[39m\u001b[33mExecutando GridSearchCV para \u001b[39m\u001b[38;5;132;01m{\u001b[39;00mbest_model_name\u001b[38;5;132;01m}\u001b[39;00m\u001b[33m...\u001b[39m\u001b[33m\"\u001b[39m)\n\u001b[32m     23\u001b[39m grid = GridSearchCV(grid_model, param_grid, cv=\u001b[32m3\u001b[39m, n_jobs=-\u001b[32m1\u001b[39m, scoring=\u001b[33m'\u001b[39m\u001b[33maccuracy\u001b[39m\u001b[33m'\u001b[39m)\n\u001b[32m---> \u001b[39m\u001b[32m24\u001b[39m \u001b[43mgrid\u001b[49m\u001b[43m.\u001b[49m\u001b[43mfit\u001b[49m\u001b[43m(\u001b[49m\u001b[43mX_train_scaled\u001b[49m\u001b[43m,\u001b[49m\u001b[43m \u001b[49m\u001b[43my_train\u001b[49m\u001b[43m)\u001b[49m\n\u001b[32m     26\u001b[39m \u001b[38;5;28mprint\u001b[39m(\u001b[33mf\u001b[39m\u001b[33m\"\u001b[39m\u001b[33mMelhores parâmetros: \u001b[39m\u001b[38;5;132;01m{\u001b[39;00mgrid.best_params_\u001b[38;5;132;01m}\u001b[39;00m\u001b[33m\"\u001b[39m)\n\u001b[32m     27\u001b[39m \u001b[38;5;28mprint\u001b[39m(\u001b[33mf\u001b[39m\u001b[33m\"\u001b[39m\u001b[33mMelhor pontuação: \u001b[39m\u001b[38;5;132;01m{\u001b[39;00mgrid.best_score_\u001b[38;5;132;01m:\u001b[39;00m\u001b[33m.4f\u001b[39m\u001b[38;5;132;01m}\u001b[39;00m\u001b[33m\"\u001b[39m)\n",
      "\u001b[36mFile \u001b[39m\u001b[32m~/Desktop/others/TP2-ICV/.venv/lib/python3.12/site-packages/sklearn/base.py:1363\u001b[39m, in \u001b[36m_fit_context.<locals>.decorator.<locals>.wrapper\u001b[39m\u001b[34m(estimator, *args, **kwargs)\u001b[39m\n\u001b[32m   1356\u001b[39m     estimator._validate_params()\n\u001b[32m   1358\u001b[39m \u001b[38;5;28;01mwith\u001b[39;00m config_context(\n\u001b[32m   1359\u001b[39m     skip_parameter_validation=(\n\u001b[32m   1360\u001b[39m         prefer_skip_nested_validation \u001b[38;5;129;01mor\u001b[39;00m global_skip_validation\n\u001b[32m   1361\u001b[39m     )\n\u001b[32m   1362\u001b[39m ):\n\u001b[32m-> \u001b[39m\u001b[32m1363\u001b[39m     \u001b[38;5;28;01mreturn\u001b[39;00m \u001b[43mfit_method\u001b[49m\u001b[43m(\u001b[49m\u001b[43mestimator\u001b[49m\u001b[43m,\u001b[49m\u001b[43m \u001b[49m\u001b[43m*\u001b[49m\u001b[43margs\u001b[49m\u001b[43m,\u001b[49m\u001b[43m \u001b[49m\u001b[43m*\u001b[49m\u001b[43m*\u001b[49m\u001b[43mkwargs\u001b[49m\u001b[43m)\u001b[49m\n",
      "\u001b[36mFile \u001b[39m\u001b[32m~/Desktop/others/TP2-ICV/.venv/lib/python3.12/site-packages/sklearn/model_selection/_search.py:1089\u001b[39m, in \u001b[36mBaseSearchCV.fit\u001b[39m\u001b[34m(self, X, y, **params)\u001b[39m\n\u001b[32m   1087\u001b[39m refit_start_time = time.time()\n\u001b[32m   1088\u001b[39m \u001b[38;5;28;01mif\u001b[39;00m y \u001b[38;5;129;01mis\u001b[39;00m \u001b[38;5;129;01mnot\u001b[39;00m \u001b[38;5;28;01mNone\u001b[39;00m:\n\u001b[32m-> \u001b[39m\u001b[32m1089\u001b[39m     \u001b[38;5;28;43mself\u001b[39;49m\u001b[43m.\u001b[49m\u001b[43mbest_estimator_\u001b[49m\u001b[43m.\u001b[49m\u001b[43mfit\u001b[49m\u001b[43m(\u001b[49m\u001b[43mX\u001b[49m\u001b[43m,\u001b[49m\u001b[43m \u001b[49m\u001b[43my\u001b[49m\u001b[43m,\u001b[49m\u001b[43m \u001b[49m\u001b[43m*\u001b[49m\u001b[43m*\u001b[49m\u001b[43mrouted_params\u001b[49m\u001b[43m.\u001b[49m\u001b[43mestimator\u001b[49m\u001b[43m.\u001b[49m\u001b[43mfit\u001b[49m\u001b[43m)\u001b[49m\n\u001b[32m   1090\u001b[39m \u001b[38;5;28;01melse\u001b[39;00m:\n\u001b[32m   1091\u001b[39m     \u001b[38;5;28mself\u001b[39m.best_estimator_.fit(X, **routed_params.estimator.fit)\n",
      "\u001b[36mFile \u001b[39m\u001b[32m~/Desktop/others/TP2-ICV/.venv/lib/python3.12/site-packages/sklearn/base.py:1363\u001b[39m, in \u001b[36m_fit_context.<locals>.decorator.<locals>.wrapper\u001b[39m\u001b[34m(estimator, *args, **kwargs)\u001b[39m\n\u001b[32m   1356\u001b[39m     estimator._validate_params()\n\u001b[32m   1358\u001b[39m \u001b[38;5;28;01mwith\u001b[39;00m config_context(\n\u001b[32m   1359\u001b[39m     skip_parameter_validation=(\n\u001b[32m   1360\u001b[39m         prefer_skip_nested_validation \u001b[38;5;129;01mor\u001b[39;00m global_skip_validation\n\u001b[32m   1361\u001b[39m     )\n\u001b[32m   1362\u001b[39m ):\n\u001b[32m-> \u001b[39m\u001b[32m1363\u001b[39m     \u001b[38;5;28;01mreturn\u001b[39;00m \u001b[43mfit_method\u001b[49m\u001b[43m(\u001b[49m\u001b[43mestimator\u001b[49m\u001b[43m,\u001b[49m\u001b[43m \u001b[49m\u001b[43m*\u001b[49m\u001b[43margs\u001b[49m\u001b[43m,\u001b[49m\u001b[43m \u001b[49m\u001b[43m*\u001b[49m\u001b[43m*\u001b[49m\u001b[43mkwargs\u001b[49m\u001b[43m)\u001b[49m\n",
      "\u001b[36mFile \u001b[39m\u001b[32m~/Desktop/others/TP2-ICV/.venv/lib/python3.12/site-packages/sklearn/ensemble/_forest.py:486\u001b[39m, in \u001b[36mBaseForest.fit\u001b[39m\u001b[34m(self, X, y, sample_weight)\u001b[39m\n\u001b[32m    475\u001b[39m trees = [\n\u001b[32m    476\u001b[39m     \u001b[38;5;28mself\u001b[39m._make_estimator(append=\u001b[38;5;28;01mFalse\u001b[39;00m, random_state=random_state)\n\u001b[32m    477\u001b[39m     \u001b[38;5;28;01mfor\u001b[39;00m i \u001b[38;5;129;01min\u001b[39;00m \u001b[38;5;28mrange\u001b[39m(n_more_estimators)\n\u001b[32m    478\u001b[39m ]\n\u001b[32m    480\u001b[39m \u001b[38;5;66;03m# Parallel loop: we prefer the threading backend as the Cython code\u001b[39;00m\n\u001b[32m    481\u001b[39m \u001b[38;5;66;03m# for fitting the trees is internally releasing the Python GIL\u001b[39;00m\n\u001b[32m    482\u001b[39m \u001b[38;5;66;03m# making threading more efficient than multiprocessing in\u001b[39;00m\n\u001b[32m    483\u001b[39m \u001b[38;5;66;03m# that case. However, for joblib 0.12+ we respect any\u001b[39;00m\n\u001b[32m    484\u001b[39m \u001b[38;5;66;03m# parallel_backend contexts set at a higher level,\u001b[39;00m\n\u001b[32m    485\u001b[39m \u001b[38;5;66;03m# since correctness does not rely on using threads.\u001b[39;00m\n\u001b[32m--> \u001b[39m\u001b[32m486\u001b[39m trees = \u001b[43mParallel\u001b[49m\u001b[43m(\u001b[49m\n\u001b[32m    487\u001b[39m \u001b[43m    \u001b[49m\u001b[43mn_jobs\u001b[49m\u001b[43m=\u001b[49m\u001b[38;5;28;43mself\u001b[39;49m\u001b[43m.\u001b[49m\u001b[43mn_jobs\u001b[49m\u001b[43m,\u001b[49m\n\u001b[32m    488\u001b[39m \u001b[43m    \u001b[49m\u001b[43mverbose\u001b[49m\u001b[43m=\u001b[49m\u001b[38;5;28;43mself\u001b[39;49m\u001b[43m.\u001b[49m\u001b[43mverbose\u001b[49m\u001b[43m,\u001b[49m\n\u001b[32m    489\u001b[39m \u001b[43m    \u001b[49m\u001b[43mprefer\u001b[49m\u001b[43m=\u001b[49m\u001b[33;43m\"\u001b[39;49m\u001b[33;43mthreads\u001b[39;49m\u001b[33;43m\"\u001b[39;49m\u001b[43m,\u001b[49m\n\u001b[32m    490\u001b[39m \u001b[43m\u001b[49m\u001b[43m)\u001b[49m\u001b[43m(\u001b[49m\n\u001b[32m    491\u001b[39m \u001b[43m    \u001b[49m\u001b[43mdelayed\u001b[49m\u001b[43m(\u001b[49m\u001b[43m_parallel_build_trees\u001b[49m\u001b[43m)\u001b[49m\u001b[43m(\u001b[49m\n\u001b[32m    492\u001b[39m \u001b[43m        \u001b[49m\u001b[43mt\u001b[49m\u001b[43m,\u001b[49m\n\u001b[32m    493\u001b[39m \u001b[43m        \u001b[49m\u001b[38;5;28;43mself\u001b[39;49m\u001b[43m.\u001b[49m\u001b[43mbootstrap\u001b[49m\u001b[43m,\u001b[49m\n\u001b[32m    494\u001b[39m \u001b[43m        \u001b[49m\u001b[43mX\u001b[49m\u001b[43m,\u001b[49m\n\u001b[32m    495\u001b[39m \u001b[43m        \u001b[49m\u001b[43my\u001b[49m\u001b[43m,\u001b[49m\n\u001b[32m    496\u001b[39m \u001b[43m        \u001b[49m\u001b[43msample_weight\u001b[49m\u001b[43m,\u001b[49m\n\u001b[32m    497\u001b[39m \u001b[43m        \u001b[49m\u001b[43mi\u001b[49m\u001b[43m,\u001b[49m\n\u001b[32m    498\u001b[39m \u001b[43m        \u001b[49m\u001b[38;5;28;43mlen\u001b[39;49m\u001b[43m(\u001b[49m\u001b[43mtrees\u001b[49m\u001b[43m)\u001b[49m\u001b[43m,\u001b[49m\n\u001b[32m    499\u001b[39m \u001b[43m        \u001b[49m\u001b[43mverbose\u001b[49m\u001b[43m=\u001b[49m\u001b[38;5;28;43mself\u001b[39;49m\u001b[43m.\u001b[49m\u001b[43mverbose\u001b[49m\u001b[43m,\u001b[49m\n\u001b[32m    500\u001b[39m \u001b[43m        \u001b[49m\u001b[43mclass_weight\u001b[49m\u001b[43m=\u001b[49m\u001b[38;5;28;43mself\u001b[39;49m\u001b[43m.\u001b[49m\u001b[43mclass_weight\u001b[49m\u001b[43m,\u001b[49m\n\u001b[32m    501\u001b[39m \u001b[43m        \u001b[49m\u001b[43mn_samples_bootstrap\u001b[49m\u001b[43m=\u001b[49m\u001b[43mn_samples_bootstrap\u001b[49m\u001b[43m,\u001b[49m\n\u001b[32m    502\u001b[39m \u001b[43m        \u001b[49m\u001b[43mmissing_values_in_feature_mask\u001b[49m\u001b[43m=\u001b[49m\u001b[43mmissing_values_in_feature_mask\u001b[49m\u001b[43m,\u001b[49m\n\u001b[32m    503\u001b[39m \u001b[43m    \u001b[49m\u001b[43m)\u001b[49m\n\u001b[32m    504\u001b[39m \u001b[43m    \u001b[49m\u001b[38;5;28;43;01mfor\u001b[39;49;00m\u001b[43m \u001b[49m\u001b[43mi\u001b[49m\u001b[43m,\u001b[49m\u001b[43m \u001b[49m\u001b[43mt\u001b[49m\u001b[43m \u001b[49m\u001b[38;5;129;43;01min\u001b[39;49;00m\u001b[43m \u001b[49m\u001b[38;5;28;43menumerate\u001b[39;49m\u001b[43m(\u001b[49m\u001b[43mtrees\u001b[49m\u001b[43m)\u001b[49m\n\u001b[32m    505\u001b[39m \u001b[43m\u001b[49m\u001b[43m)\u001b[49m\n\u001b[32m    507\u001b[39m \u001b[38;5;66;03m# Collect newly grown trees\u001b[39;00m\n\u001b[32m    508\u001b[39m \u001b[38;5;28mself\u001b[39m.estimators_.extend(trees)\n",
      "\u001b[36mFile \u001b[39m\u001b[32m~/Desktop/others/TP2-ICV/.venv/lib/python3.12/site-packages/sklearn/utils/parallel.py:82\u001b[39m, in \u001b[36mParallel.__call__\u001b[39m\u001b[34m(self, iterable)\u001b[39m\n\u001b[32m     73\u001b[39m warning_filters = warnings.filters\n\u001b[32m     74\u001b[39m iterable_with_config_and_warning_filters = (\n\u001b[32m     75\u001b[39m     (\n\u001b[32m     76\u001b[39m         _with_config_and_warning_filters(delayed_func, config, warning_filters),\n\u001b[32m   (...)\u001b[39m\u001b[32m     80\u001b[39m     \u001b[38;5;28;01mfor\u001b[39;00m delayed_func, args, kwargs \u001b[38;5;129;01min\u001b[39;00m iterable\n\u001b[32m     81\u001b[39m )\n\u001b[32m---> \u001b[39m\u001b[32m82\u001b[39m \u001b[38;5;28;01mreturn\u001b[39;00m \u001b[38;5;28;43msuper\u001b[39;49m\u001b[43m(\u001b[49m\u001b[43m)\u001b[49m\u001b[43m.\u001b[49m\u001b[34;43m__call__\u001b[39;49m\u001b[43m(\u001b[49m\u001b[43miterable_with_config_and_warning_filters\u001b[49m\u001b[43m)\u001b[49m\n",
      "\u001b[36mFile \u001b[39m\u001b[32m~/Desktop/others/TP2-ICV/.venv/lib/python3.12/site-packages/joblib/parallel.py:1986\u001b[39m, in \u001b[36mParallel.__call__\u001b[39m\u001b[34m(self, iterable)\u001b[39m\n\u001b[32m   1984\u001b[39m     output = \u001b[38;5;28mself\u001b[39m._get_sequential_output(iterable)\n\u001b[32m   1985\u001b[39m     \u001b[38;5;28mnext\u001b[39m(output)\n\u001b[32m-> \u001b[39m\u001b[32m1986\u001b[39m     \u001b[38;5;28;01mreturn\u001b[39;00m output \u001b[38;5;28;01mif\u001b[39;00m \u001b[38;5;28mself\u001b[39m.return_generator \u001b[38;5;28;01melse\u001b[39;00m \u001b[38;5;28;43mlist\u001b[39;49m\u001b[43m(\u001b[49m\u001b[43moutput\u001b[49m\u001b[43m)\u001b[49m\n\u001b[32m   1988\u001b[39m \u001b[38;5;66;03m# Let's create an ID that uniquely identifies the current call. If the\u001b[39;00m\n\u001b[32m   1989\u001b[39m \u001b[38;5;66;03m# call is interrupted early and that the same instance is immediately\u001b[39;00m\n\u001b[32m   1990\u001b[39m \u001b[38;5;66;03m# reused, this id will be used to prevent workers that were\u001b[39;00m\n\u001b[32m   1991\u001b[39m \u001b[38;5;66;03m# concurrently finalizing a task from the previous call to run the\u001b[39;00m\n\u001b[32m   1992\u001b[39m \u001b[38;5;66;03m# callback.\u001b[39;00m\n\u001b[32m   1993\u001b[39m \u001b[38;5;28;01mwith\u001b[39;00m \u001b[38;5;28mself\u001b[39m._lock:\n",
      "\u001b[36mFile \u001b[39m\u001b[32m~/Desktop/others/TP2-ICV/.venv/lib/python3.12/site-packages/joblib/parallel.py:1914\u001b[39m, in \u001b[36mParallel._get_sequential_output\u001b[39m\u001b[34m(self, iterable)\u001b[39m\n\u001b[32m   1912\u001b[39m \u001b[38;5;28mself\u001b[39m.n_dispatched_batches += \u001b[32m1\u001b[39m\n\u001b[32m   1913\u001b[39m \u001b[38;5;28mself\u001b[39m.n_dispatched_tasks += \u001b[32m1\u001b[39m\n\u001b[32m-> \u001b[39m\u001b[32m1914\u001b[39m res = \u001b[43mfunc\u001b[49m\u001b[43m(\u001b[49m\u001b[43m*\u001b[49m\u001b[43margs\u001b[49m\u001b[43m,\u001b[49m\u001b[43m \u001b[49m\u001b[43m*\u001b[49m\u001b[43m*\u001b[49m\u001b[43mkwargs\u001b[49m\u001b[43m)\u001b[49m\n\u001b[32m   1915\u001b[39m \u001b[38;5;28mself\u001b[39m.n_completed_tasks += \u001b[32m1\u001b[39m\n\u001b[32m   1916\u001b[39m \u001b[38;5;28mself\u001b[39m.print_progress()\n",
      "\u001b[36mFile \u001b[39m\u001b[32m~/Desktop/others/TP2-ICV/.venv/lib/python3.12/site-packages/sklearn/utils/parallel.py:147\u001b[39m, in \u001b[36m_FuncWrapper.__call__\u001b[39m\u001b[34m(self, *args, **kwargs)\u001b[39m\n\u001b[32m    145\u001b[39m \u001b[38;5;28;01mwith\u001b[39;00m config_context(**config), warnings.catch_warnings():\n\u001b[32m    146\u001b[39m     warnings.filters = warning_filters\n\u001b[32m--> \u001b[39m\u001b[32m147\u001b[39m     \u001b[38;5;28;01mreturn\u001b[39;00m \u001b[38;5;28;43mself\u001b[39;49m\u001b[43m.\u001b[49m\u001b[43mfunction\u001b[49m\u001b[43m(\u001b[49m\u001b[43m*\u001b[49m\u001b[43margs\u001b[49m\u001b[43m,\u001b[49m\u001b[43m \u001b[49m\u001b[43m*\u001b[49m\u001b[43m*\u001b[49m\u001b[43mkwargs\u001b[49m\u001b[43m)\u001b[49m\n",
      "\u001b[36mFile \u001b[39m\u001b[32m~/Desktop/others/TP2-ICV/.venv/lib/python3.12/site-packages/sklearn/ensemble/_forest.py:188\u001b[39m, in \u001b[36m_parallel_build_trees\u001b[39m\u001b[34m(tree, bootstrap, X, y, sample_weight, tree_idx, n_trees, verbose, class_weight, n_samples_bootstrap, missing_values_in_feature_mask)\u001b[39m\n\u001b[32m    185\u001b[39m     \u001b[38;5;28;01melif\u001b[39;00m class_weight == \u001b[33m\"\u001b[39m\u001b[33mbalanced_subsample\u001b[39m\u001b[33m\"\u001b[39m:\n\u001b[32m    186\u001b[39m         curr_sample_weight *= compute_sample_weight(\u001b[33m\"\u001b[39m\u001b[33mbalanced\u001b[39m\u001b[33m\"\u001b[39m, y, indices=indices)\n\u001b[32m--> \u001b[39m\u001b[32m188\u001b[39m     \u001b[43mtree\u001b[49m\u001b[43m.\u001b[49m\u001b[43m_fit\u001b[49m\u001b[43m(\u001b[49m\n\u001b[32m    189\u001b[39m \u001b[43m        \u001b[49m\u001b[43mX\u001b[49m\u001b[43m,\u001b[49m\n\u001b[32m    190\u001b[39m \u001b[43m        \u001b[49m\u001b[43my\u001b[49m\u001b[43m,\u001b[49m\n\u001b[32m    191\u001b[39m \u001b[43m        \u001b[49m\u001b[43msample_weight\u001b[49m\u001b[43m=\u001b[49m\u001b[43mcurr_sample_weight\u001b[49m\u001b[43m,\u001b[49m\n\u001b[32m    192\u001b[39m \u001b[43m        \u001b[49m\u001b[43mcheck_input\u001b[49m\u001b[43m=\u001b[49m\u001b[38;5;28;43;01mFalse\u001b[39;49;00m\u001b[43m,\u001b[49m\n\u001b[32m    193\u001b[39m \u001b[43m        \u001b[49m\u001b[43mmissing_values_in_feature_mask\u001b[49m\u001b[43m=\u001b[49m\u001b[43mmissing_values_in_feature_mask\u001b[49m\u001b[43m,\u001b[49m\n\u001b[32m    194\u001b[39m \u001b[43m    \u001b[49m\u001b[43m)\u001b[49m\n\u001b[32m    195\u001b[39m \u001b[38;5;28;01melse\u001b[39;00m:\n\u001b[32m    196\u001b[39m     tree._fit(\n\u001b[32m    197\u001b[39m         X,\n\u001b[32m    198\u001b[39m         y,\n\u001b[32m   (...)\u001b[39m\u001b[32m    201\u001b[39m         missing_values_in_feature_mask=missing_values_in_feature_mask,\n\u001b[32m    202\u001b[39m     )\n",
      "\u001b[36mFile \u001b[39m\u001b[32m~/Desktop/others/TP2-ICV/.venv/lib/python3.12/site-packages/sklearn/tree/_classes.py:472\u001b[39m, in \u001b[36mBaseDecisionTree._fit\u001b[39m\u001b[34m(self, X, y, sample_weight, check_input, missing_values_in_feature_mask)\u001b[39m\n\u001b[32m    461\u001b[39m \u001b[38;5;28;01melse\u001b[39;00m:\n\u001b[32m    462\u001b[39m     builder = BestFirstTreeBuilder(\n\u001b[32m    463\u001b[39m         splitter,\n\u001b[32m    464\u001b[39m         min_samples_split,\n\u001b[32m   (...)\u001b[39m\u001b[32m    469\u001b[39m         \u001b[38;5;28mself\u001b[39m.min_impurity_decrease,\n\u001b[32m    470\u001b[39m     )\n\u001b[32m--> \u001b[39m\u001b[32m472\u001b[39m \u001b[43mbuilder\u001b[49m\u001b[43m.\u001b[49m\u001b[43mbuild\u001b[49m\u001b[43m(\u001b[49m\u001b[38;5;28;43mself\u001b[39;49m\u001b[43m.\u001b[49m\u001b[43mtree_\u001b[49m\u001b[43m,\u001b[49m\u001b[43m \u001b[49m\u001b[43mX\u001b[49m\u001b[43m,\u001b[49m\u001b[43m \u001b[49m\u001b[43my\u001b[49m\u001b[43m,\u001b[49m\u001b[43m \u001b[49m\u001b[43msample_weight\u001b[49m\u001b[43m,\u001b[49m\u001b[43m \u001b[49m\u001b[43mmissing_values_in_feature_mask\u001b[49m\u001b[43m)\u001b[49m\n\u001b[32m    474\u001b[39m \u001b[38;5;28;01mif\u001b[39;00m \u001b[38;5;28mself\u001b[39m.n_outputs_ == \u001b[32m1\u001b[39m \u001b[38;5;129;01mand\u001b[39;00m is_classifier(\u001b[38;5;28mself\u001b[39m):\n\u001b[32m    475\u001b[39m     \u001b[38;5;28mself\u001b[39m.n_classes_ = \u001b[38;5;28mself\u001b[39m.n_classes_[\u001b[32m0\u001b[39m]\n",
      "\u001b[31mKeyboardInterrupt\u001b[39m: "
     ]
    }
   ],
   "source": [
    "# # Vamos realizar a busca por hiperparâmetros para o melhor modelo (ajuste conforme necessidade)\n",
    "# best_model_name = max(results, key=lambda k: results[k]['test_acc'])\n",
    "# print(f\"Melhor modelo: {best_model_name} com acurácia de teste: {results[best_model_name]['test_acc']:.4f}\")\n",
    "\n",
    "# # Inicializa o modelo para grid search\n",
    "# if best_model_name == 'SVC':\n",
    "#     grid_model = SVC(probability=True, random_state=42)\n",
    "#     param_grid = {\n",
    "#         'C': [0.1, 1, 10, 100],\n",
    "#         'gamma': ['scale', 'auto', 0.01, 0.1, 1],\n",
    "#         'kernel': ['rbf', 'poly', 'sigmoid'],\n",
    "#         'degree': [2, 3, 4] # para o kernel 'poly'\n",
    "#     }\n",
    "# else:\n",
    "#     # Use o modelo correspondente e seus parâmetros\n",
    "#     for model_class in param_grids.keys():\n",
    "#         if model_class.__name__ == best_model_name:\n",
    "#             grid_model = model_class(random_state=42 if 'random_state' in model_class().get_params() else None)\n",
    "#             param_grid = param_grids[model_class]\n",
    "#             break\n",
    "\n",
    "# print(f\"Executando GridSearchCV para {best_model_name}...\")\n",
    "# grid = GridSearchCV(grid_model, param_grid, cv=3, n_jobs=-1, scoring='accuracy')\n",
    "# grid.fit(X_train_scaled, y_train)\n",
    "\n",
    "# print(f\"Melhores parâmetros: {grid.best_params_}\")\n",
    "# print(f\"Melhor pontuação: {grid.best_score_:.4f}\")\n",
    "\n",
    "# # Testando o modelo otimizado\n",
    "# best_model = grid.best_estimator_\n",
    "# y_pred_test = best_model.predict(X_test_scaled)\n",
    "# test_acc = best_model.score(X_test_scaled, y_test)\n",
    "\n",
    "# print(f\"Acurácia no conjunto de teste com o modelo otimizado: {test_acc:.4f}\")\n",
    "# print(f\"Relatório de classificação:\")\n",
    "# print(classification_report(y_test, y_pred_test))\n",
    "\n",
    "# # Visualizando a matriz de confusão\n",
    "# cm = confusion_matrix(y_test, y_pred_test)\n",
    "# disp = ConfusionMatrixDisplay(confusion_matrix=cm, display_labels=best_model.classes_)\n",
    "# disp.plot(cmap=plt.cm.Blues)\n",
    "# plt.title(f\"Matriz de Confusão - Modelo Otimizado ({best_model_name})\")\n",
    "# plt.show()"
   ]
  },
  {
   "cell_type": "code",
   "execution_count": null,
   "id": "474f15ff",
   "metadata": {},
   "outputs": [],
   "source": [
    "def Get_Accuracy_per_size(y_true,y_pred):\n",
    "        prev =(y_pred == y_true)\n",
    "        PM_1 = 0\n",
    "        PM_2 = 0\n",
    "        PM_3 = 0\n",
    "        PM_4 = 0\n",
    "        PM_5 = 0\n",
    "        PM_6 = 0\n",
    "        for i in range(0,len(prev),6):\n",
    "            acertos = 0\n",
    "            for j in range(6):\n",
    "                if prev[i+j]:\n",
    "                    acertos = acertos + 1\n",
    "                    \n",
    "            if(acertos == 6):\n",
    "                PM_1 = PM_1 + 1\n",
    "                PM_2 = PM_2 + 1\n",
    "                PM_3 = PM_3 + 1\n",
    "                PM_4 = PM_4 + 1\n",
    "                PM_5 = PM_5 + 1\n",
    "                PM_6 = PM_6 + 1\n",
    "                \n",
    "            if(acertos == 5):\n",
    "                PM_1 = PM_1 + 1\n",
    "                PM_2 = PM_2 + 1\n",
    "                PM_3 = PM_3 + 1\n",
    "                PM_4 = PM_4 + 1\n",
    "                PM_5 = PM_5 + 1\n",
    "            \n",
    "            if(acertos == 4):\n",
    "                PM_1 = PM_1 + 1\n",
    "                PM_2 = PM_2 + 1\n",
    "                PM_3 = PM_3 + 1\n",
    "                PM_4 = PM_4 + 1\n",
    "                \n",
    "            if(acertos == 3):\n",
    "                PM_1 = PM_1 + 1\n",
    "                PM_2 = PM_2 + 1\n",
    "                PM_3 = PM_3 + 1\n",
    "                \n",
    "            if(acertos == 2):\n",
    "                PM_1 = PM_1 + 1\n",
    "                PM_2 = PM_2 + 1\n",
    "                \n",
    "            if(acertos == 1):\n",
    "                PM_1 = PM_1 + 1\n",
    "                \n",
    "        size = (len(prev)/6)\n",
    "        y = [(PM_1/size),(PM_2/size),(PM_3/size),(PM_4/size),(PM_5/size),(PM_6/size)]\n",
    "        x = [1,2,3,4,5,6]\n",
    "        \n",
    "        plt.figure(figsize=(14, 5)) \n",
    "        plt.plot(x, y, color=\"Blue\", linewidth=2, marker='o', markersize=8)\n",
    "        \n",
    "        plt.grid(True, alpha=0.6)\n",
    "        plt.gca().spines['top'].set_linewidth(0)\n",
    "        plt.gca().spines['bottom'].set_linewidth(0.4)\n",
    "        plt.gca().spines['left'].set_linewidth(0.4)\n",
    "        plt.gca().spines['right'].set_linewidth(0)\n",
    "        \n",
    "        plt.xlabel(\"\\nNúmero mínimo de caracteres reconhecidos por captcha\", fontsize=9)\n",
    "        plt.ylabel(\"Taxa de Reconhecimento\\n\", fontsize=9)\n",
    "        plt.xticks(fontsize=9)\n",
    "        plt.yticks(fontsize=9)\n",
    "\n",
    "        plt.title(\"Resultado HOG \\n\\n\", fontsize=10)\n",
    "        plt.gca().set_axisbelow(True)\n",
    "\n",
    "        name = \"Acertos_por_quantidade_HOG\"\n",
    "        save_path = os.path.join('dados/resultados', name + \".png\")\n",
    "        plt.savefig(save_path, bbox_inches='tight')\n",
    "        plt.show()"
   ]
  },
  {
   "cell_type": "code",
   "execution_count": null,
   "id": "30bc1dcd",
   "metadata": {},
   "outputs": [],
   "source": [
    "Get_Accuracy_per_size(y_test, y_pred_test)"
   ]
  },
  {
   "cell_type": "code",
   "execution_count": null,
   "id": "1829046e",
   "metadata": {},
   "outputs": [],
   "source": [
    "# Get the best model from our results\n",
    "best_model_name = max(results, key=lambda k: results[k]['test_acc'])\n",
    "best_model = results[best_model_name]['model']\n",
    "\n",
    "# Group predictions by original image name\n",
    "original_images = df_test['original_image'].values\n",
    "true_labels = df_test['label'].values\n",
    "predicted_labels = y_pred_test\n",
    "\n",
    "# Create a dictionary to store results for each CAPTCHA\n",
    "captcha_results = {}\n",
    "\n",
    "for img_name, true_label, pred_label in zip(original_images, true_labels, predicted_labels):\n",
    "    if img_name not in captcha_results:\n",
    "        captcha_results[img_name] = {'true': [], 'pred': []}\n",
    "    \n",
    "    captcha_results[img_name]['true'].append(true_label)\n",
    "    captcha_results[img_name]['pred'].append(pred_label)\n",
    "\n",
    "# Calculate success rate for each CAPTCHA based on number of correctly identified characters\n",
    "captcha_success = []\n",
    "for img_name, results_dict in captcha_results.items():\n",
    "    correct_chars = sum(t == p for t, p in zip(results_dict['true'], results_dict['pred']))\n",
    "    total_chars = len(results_dict['true'])\n",
    "    captcha_success.append({\n",
    "        'image': img_name,\n",
    "        'total_chars': total_chars,\n",
    "        'correct_chars': correct_chars,\n",
    "        'accuracy': correct_chars / total_chars\n",
    "    })\n",
    "\n",
    "# Count how many CAPTCHAs have at least X correct characters\n",
    "min_correct_counts = {}\n",
    "total_captchas = len(captcha_success)\n",
    "\n",
    "for min_correct in range(1, 10):  # Assuming CAPTCHAs have up to 9 characters\n",
    "    count = sum(1 for res in captcha_success if res['correct_chars'] >= min_correct)\n",
    "    min_correct_counts[min_correct] = count / total_captchas if total_captchas > 0 else 0\n",
    "\n",
    "# Plot the results\n",
    "plt.figure(figsize=(10, 6))\n",
    "plt.bar(min_correct_counts.keys(), min_correct_counts.values(), color='skyblue')\n",
    "plt.xlabel('Minimum number of characters correctly recognized')\n",
    "plt.ylabel('Percentage of CAPTCHAs')\n",
    "plt.title(f'CAPTCHA Recognition Rate using {best_model_name}')\n",
    "plt.xticks(list(min_correct_counts.keys()))\n",
    "plt.ylim(0, 1.0)\n",
    "plt.grid(axis='y', linestyle='--', alpha=0.7)\n",
    "\n",
    "# Add percentage labels on top of each bar\n",
    "for x, y in min_correct_counts.items():\n",
    "    plt.text(x, y + 0.02, f'{y:.1%}', ha='center')\n",
    "\n",
    "# Calculate and display perfect recognition rate\n",
    "perfect_rate = sum(1 for res in captcha_success if res['correct_chars'] == res['total_chars']) / total_captchas\n",
    "plt.text(0.5, 0.9, f'Perfect Recognition Rate: {perfect_rate:.1%}', \n",
    "         transform=plt.gca().transAxes, ha='center', fontsize=12, \n",
    "         bbox=dict(facecolor='white', alpha=0.8))\n",
    "\n",
    "# Show distribution of CAPTCHA lengths\n",
    "captcha_lengths = [res['total_chars'] for res in captcha_success]\n",
    "plt.figure(figsize=(8, 4))\n",
    "plt.hist(captcha_lengths, bins=range(1, max(captcha_lengths)+2), color='lightgreen', alpha=0.7)\n",
    "plt.xlabel('Number of characters in CAPTCHA')\n",
    "plt.ylabel('Count')\n",
    "plt.title('Distribution of CAPTCHA lengths')\n",
    "plt.xticks(range(1, max(captcha_lengths)+1))\n",
    "plt.grid(axis='y', linestyle='--', alpha=0.7)\n",
    "\n",
    "plt.tight_layout()\n",
    "plt.show()"
   ]
  }
 ],
 "metadata": {
  "kernelspec": {
   "display_name": ".venv",
   "language": "python",
   "name": "python3"
  },
  "language_info": {
   "codemirror_mode": {
    "name": "ipython",
    "version": 3
   },
   "file_extension": ".py",
   "mimetype": "text/x-python",
   "name": "python",
   "nbconvert_exporter": "python",
   "pygments_lexer": "ipython3",
   "version": "3.12.3"
  }
 },
 "nbformat": 4,
 "nbformat_minor": 5
}
