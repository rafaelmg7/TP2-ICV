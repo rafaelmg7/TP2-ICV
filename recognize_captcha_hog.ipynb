{
 "cells": [
  {
   "cell_type": "code",
   "execution_count": 1,
   "id": "36b91f62",
   "metadata": {},
   "outputs": [],
   "source": [
    "import io\n",
    "import os\n",
    "import shutil\n",
    "import cv2\n",
    "import numpy as np\n",
    "import matplotlib.pyplot as plt\n",
    "import matplotlib.image as mpimg\n",
    "from tqdm import tqdm\n",
    "import math\n",
    "import pandas as pd\n",
    "\n",
    "from sklearn.preprocessing import StandardScaler, OneHotEncoder, LabelEncoder, OrdinalEncoder, MinMaxScaler\n",
    "from sklearn.compose import ColumnTransformer, make_column_selector, make_column_transformer\n",
    "from sklearn.pipeline import Pipeline\n",
    "from sklearn.impute import SimpleImputer\n",
    "from sklearn.model_selection import train_test_split\n",
    "from sklearn.metrics import mean_absolute_error, mean_squared_error, root_mean_squared_error, f1_score, confusion_matrix, ConfusionMatrixDisplay, classification_report\n",
    "from sklearn.linear_model import LinearRegression\n",
    "from sklearn.ensemble import RandomForestRegressor, RandomForestClassifier\n",
    "from sklearn.svm import SVR, SVC\n",
    "from sklearn.neural_network import MLPRegressor\n",
    "from sklearn.inspection import permutation_importance"
   ]
  },
  {
   "cell_type": "code",
   "execution_count": 2,
   "id": "715d36a3",
   "metadata": {},
   "outputs": [],
   "source": [
    "conjuntos = ['treinamento', 'teste', 'validacao']\n",
    "base_path = 'dados/processed'\n",
    "pastas_excluir = ['cleanImage', '?']\n",
    "\n",
    "for conjunto in conjuntos:\n",
    "    conjunto_path = os.path.join(base_path, conjunto)\n",
    "    for nome in os.listdir(conjunto_path):\n",
    "        full_path = os.path.join(conjunto_path, nome)\n",
    "        if nome in pastas_excluir and os.path.isdir(full_path):\n",
    "            print(f\"Removendo pasta: {full_path}\")\n",
    "            shutil.rmtree(full_path)"
   ]
  },
  {
   "cell_type": "code",
   "execution_count": 3,
   "id": "5a79c697",
   "metadata": {},
   "outputs": [],
   "source": [
    "train_dir = 'dados/processed/treinamento'\n",
    "val_dir   = 'dados/processed/validacao'\n",
    "test_dir  = 'dados/processed/teste'"
   ]
  },
  {
   "cell_type": "code",
   "execution_count": 4,
   "id": "f65440e5",
   "metadata": {},
   "outputs": [],
   "source": [
    "def load_images_from_folder(folder):\n",
    "    images = {}\n",
    "    for char_folder in os.listdir(folder):\n",
    "        char_images = []\n",
    "        for filename in os.listdir(os.path.join(folder, char_folder)):\n",
    "            if filename.endswith('.jpg'):\n",
    "                img_path = os.path.join(folder, char_folder, filename)\n",
    "                if os.path.isfile(img_path):\n",
    "                    img = cv2.imread(img_path, cv2.IMREAD_GRAYSCALE)\n",
    "                    if img is not None:\n",
    "                        char_images.append(img)\n",
    "        \n",
    "        images[char_folder] = char_images\n",
    "    \n",
    "    return images"
   ]
  },
  {
   "cell_type": "code",
   "execution_count": 5,
   "id": "d03f6622",
   "metadata": {},
   "outputs": [],
   "source": [
    "def calculate_bin_index(angle):\n",
    "    temp = (angle / 20.0) - 0.5\n",
    "    j = math.floor(temp)\n",
    "    return j\n",
    "\n",
    "def calculate_center_of_bin(j):\n",
    "    return round((j + 0.5) * 20.0, 9)\n",
    "\n",
    "def calculate_value_of_bin(magnitude, angle, j):\n",
    "    cj = calculate_center_of_bin(j)\n",
    "    vj = magnitude * ((cj - angle) / 20.0)\n",
    "    return round(vj, 9)"
   ]
  },
  {
   "cell_type": "code",
   "execution_count": 6,
   "id": "9323f446",
   "metadata": {},
   "outputs": [],
   "source": [
    "def extract_hog_features(image):\n",
    "    resized_image = cv2.resize(image, (64, 128))\n",
    "\n",
    "    hog = cv2.HOGDescriptor()\n",
    "    features = hog.compute(resized_image)\n",
    "    if features is None:\n",
    "        print(\"Erro ao extrair características HOG: 'features' é None\")\n",
    "        return np.array([])\n",
    "    # print(f\"Dimensões das características HOG: {features.shape}\")\n",
    "    return np.array(features)\n",
    "    # Gx = cv2.filter2D(resized_image, -1, np.array([[-1, 0, 1], \n",
    "    #            [-2, 0, 2], \n",
    "    #            [-1, 0, 1]]))\n",
    "    # Gy = cv2.filter2D(resized_image, -1, np.array([[1, 2, 1],\n",
    "    #            [0, 0, 0],\n",
    "    #            [-1, -2, -1]]))\n",
    "    \n",
    "    # magnitude = np.sqrt(Gx**2 + Gy**2)\n",
    "    # angle = np.arctan2(Gy, Gx) * (180 / np.pi)\n",
    "    # angle[angle < 0] += 360\n",
    "    \n",
    "    # nrows, ncols = magnitude.shape\n",
    "    # hog_features = []\n",
    "    # num_bins = 9\n",
    "    # bin_size = 180 // num_bins\n",
    "        \n",
    "    # for i in range(0, nrows, 8):\n",
    "    #     temp = []\n",
    "    #     for j in range(0, ncols, 8):\n",
    "    #         block_magnitude = magnitude[i:i+8, j:j+8]\n",
    "    #         block_angle = angle[i:i+8, j:j+8]\n",
    "            \n",
    "    #         for k in range(8):\n",
    "    #             for l in range(8):\n",
    "    #                 bins = [0.0] * num_bins\n",
    "    #                 j = calculate_bin_index(block_angle[k, l])\n",
    "    #                 vj = calculate_value_of_bin(block_magnitude[k, l], block_angle[k, l], j)\n",
    "    #                 vj_1 = magnitude[k, l] - vj\n",
    "    #                 bins[j] += vj\n",
    "    #                 bins[j + 1] += vj_1\n",
    "    #                 bins = [round(x, 9) for x in bins]\n",
    "    #         temp.append(bins)\n",
    "    #     hog_features.append(temp)\n",
    "                \n",
    "    # epsilon = 1e-5\n",
    "    # feature_vectors = []\n",
    "    # for i in range(0, len(hog_features) - 1, 1):\n",
    "    #     temp = []\n",
    "    #     for j in range(0, len(hog_features[0]) - 1, 1):\n",
    "    #         values = [[hog_features[i][x] for x in range(j, j+2)] for i in range(i, i+2)]\n",
    "    #         final_vector = []\n",
    "    #         for k in values:\n",
    "    #             for l in k:\n",
    "    #                 for m in l:\n",
    "    #                     final_vector.append(m)\n",
    "    #         k = round(math.sqrt(sum([pow(x, 2) for x in final_vector])), 9)\n",
    "    #         final_vector = [round(x/(k + epsilon), 9) for x in final_vector]\n",
    "    #         temp.append(final_vector)\n",
    "    #     feature_vectors.append(temp)\n",
    "        \n",
    "    # return [0.0 if x is None else x for x in feature_vectors]\n",
    "    # Normalização L2\n",
    "    # hog_features = np.array(hog_features)\n",
    "    # norm = np.linalg.norm(hog_features) + 1e-7\n",
    "    # hog_features = hog_features / norm\n",
    "    # return hog_features.tolist()"
   ]
  },
  {
   "cell_type": "code",
   "execution_count": null,
   "id": "6bebed12",
   "metadata": {},
   "outputs": [
    {
     "ename": "",
     "evalue": "",
     "output_type": "error",
     "traceback": [
      "\u001b[1;31mThe Kernel crashed while executing code in the current cell or a previous cell. \n",
      "\u001b[1;31mPlease review the code in the cell(s) to identify a possible cause of the failure. \n",
      "\u001b[1;31mClick <a href='https://aka.ms/vscodeJupyterKernelCrash'>here</a> for more info. \n",
      "\u001b[1;31mView Jupyter <a href='command:jupyter.viewOutput'>log</a> for further details."
     ]
    }
   ],
   "source": [
    "def create_features_df(folder):\n",
    "    if os.path.exists(f'{folder}_features.csv'):\n",
    "        print(f\"Arquivo {folder}_features.csv já existe. Carregando...\")\n",
    "        return pd.read_csv(f'{folder}_features.csv')\n",
    "    \n",
    "    print(f\"Extraindo HOG features de {folder}...\")\n",
    "    features = []\n",
    "    images = load_images_from_folder(folder)\n",
    "    \n",
    "    for char, char_images in tqdm(images.items(), desc=\"Processando caracteres\"):\n",
    "        print(f\"Processando imagens do caractere: {char}\")\n",
    "        for img in char_images:\n",
    "            hog_features = extract_hog_features(img)\n",
    "            features.append([char] + hog_features.tolist())\n",
    "            \n",
    "    df = pd.DataFrame(features)\n",
    "    df.columns = ['label'] + [f'feature_{i}' for i in range(len(df.columns) - 1)]\n",
    "    df.to_csv(f'{folder}_features.csv', index=False)\n",
    "    \n",
    "    return df"
   ]
  },
  {
   "cell_type": "code",
   "execution_count": null,
   "id": "509e3ce6",
   "metadata": {},
   "outputs": [
    {
     "name": "stdout",
     "output_type": "stream",
     "text": [
      "Extraindo HOG features de dados/processed/treinamento...\n"
     ]
    },
    {
     "name": "stderr",
     "output_type": "stream",
     "text": [
      "Processando caracteres:   0%|          | 0/36 [00:00<?, ?it/s]"
     ]
    },
    {
     "name": "stdout",
     "output_type": "stream",
     "text": [
      "Processando imagens do caractere: 0\n"
     ]
    },
    {
     "name": "stderr",
     "output_type": "stream",
     "text": [
      "Processando caracteres:   3%|▎         | 1/36 [00:00<00:17,  1.97it/s]"
     ]
    },
    {
     "name": "stdout",
     "output_type": "stream",
     "text": [
      "Processando imagens do caractere: 8\n"
     ]
    },
    {
     "name": "stderr",
     "output_type": "stream",
     "text": [
      "Processando caracteres:   6%|▌         | 2/36 [00:01<00:18,  1.79it/s]"
     ]
    },
    {
     "name": "stdout",
     "output_type": "stream",
     "text": [
      "Processando imagens do caractere: Q\n"
     ]
    },
    {
     "name": "stderr",
     "output_type": "stream",
     "text": [
      "Processando caracteres:   8%|▊         | 3/36 [00:01<00:18,  1.78it/s]"
     ]
    },
    {
     "name": "stdout",
     "output_type": "stream",
     "text": [
      "Processando imagens do caractere: W\n"
     ]
    },
    {
     "name": "stderr",
     "output_type": "stream",
     "text": [
      "Processando caracteres:  11%|█         | 4/36 [00:02<00:18,  1.76it/s]"
     ]
    },
    {
     "name": "stdout",
     "output_type": "stream",
     "text": [
      "Processando imagens do caractere: N\n"
     ]
    },
    {
     "name": "stderr",
     "output_type": "stream",
     "text": [
      "Processando caracteres:  14%|█▍        | 5/36 [00:02<00:18,  1.65it/s]"
     ]
    },
    {
     "name": "stdout",
     "output_type": "stream",
     "text": [
      "Processando imagens do caractere: G\n"
     ]
    },
    {
     "name": "stderr",
     "output_type": "stream",
     "text": [
      "Processando caracteres:  17%|█▋        | 6/36 [00:03<00:18,  1.60it/s]"
     ]
    },
    {
     "name": "stdout",
     "output_type": "stream",
     "text": [
      "Processando imagens do caractere: 9\n"
     ]
    },
    {
     "name": "stderr",
     "output_type": "stream",
     "text": [
      "Processando caracteres:  19%|█▉        | 7/36 [00:04<00:20,  1.42it/s]"
     ]
    },
    {
     "name": "stdout",
     "output_type": "stream",
     "text": [
      "Processando imagens do caractere: K\n"
     ]
    },
    {
     "name": "stderr",
     "output_type": "stream",
     "text": [
      "Processando caracteres:  22%|██▏       | 8/36 [00:05<00:18,  1.51it/s]"
     ]
    },
    {
     "name": "stdout",
     "output_type": "stream",
     "text": [
      "Processando imagens do caractere: R\n"
     ]
    },
    {
     "name": "stderr",
     "output_type": "stream",
     "text": [
      "Processando caracteres:  25%|██▌       | 9/36 [00:05<00:16,  1.61it/s]"
     ]
    },
    {
     "name": "stdout",
     "output_type": "stream",
     "text": [
      "Processando imagens do caractere: L\n"
     ]
    },
    {
     "name": "stderr",
     "output_type": "stream",
     "text": [
      "Processando caracteres:  28%|██▊       | 10/36 [00:06<00:15,  1.70it/s]"
     ]
    },
    {
     "name": "stdout",
     "output_type": "stream",
     "text": [
      "Processando imagens do caractere: C\n"
     ]
    },
    {
     "name": "stderr",
     "output_type": "stream",
     "text": [
      "Processando caracteres:  31%|███       | 11/36 [00:06<00:13,  1.79it/s]"
     ]
    },
    {
     "name": "stdout",
     "output_type": "stream",
     "text": [
      "Processando imagens do caractere: 5\n"
     ]
    },
    {
     "name": "stderr",
     "output_type": "stream",
     "text": [
      "Processando caracteres:  33%|███▎      | 12/36 [00:07<00:13,  1.82it/s]"
     ]
    },
    {
     "name": "stdout",
     "output_type": "stream",
     "text": [
      "Processando imagens do caractere: 4\n"
     ]
    },
    {
     "name": "stderr",
     "output_type": "stream",
     "text": [
      "Processando caracteres:  36%|███▌      | 13/36 [00:07<00:14,  1.59it/s]"
     ]
    },
    {
     "name": "stdout",
     "output_type": "stream",
     "text": [
      "Processando imagens do caractere: 7\n"
     ]
    },
    {
     "name": "stderr",
     "output_type": "stream",
     "text": [
      "Processando caracteres:  39%|███▉      | 14/36 [00:09<00:17,  1.23it/s]"
     ]
    },
    {
     "name": "stdout",
     "output_type": "stream",
     "text": [
      "Processando imagens do caractere: H\n"
     ]
    },
    {
     "name": "stderr",
     "output_type": "stream",
     "text": [
      "Processando caracteres:  42%|████▏     | 15/36 [00:09<00:15,  1.33it/s]"
     ]
    },
    {
     "name": "stdout",
     "output_type": "stream",
     "text": [
      "Processando imagens do caractere: D\n"
     ]
    },
    {
     "name": "stderr",
     "output_type": "stream",
     "text": [
      "Processando caracteres:  44%|████▍     | 16/36 [00:10<00:14,  1.37it/s]"
     ]
    },
    {
     "name": "stdout",
     "output_type": "stream",
     "text": [
      "Processando imagens do caractere: 1\n"
     ]
    },
    {
     "name": "stderr",
     "output_type": "stream",
     "text": [
      "Processando caracteres:  47%|████▋     | 17/36 [00:11<00:13,  1.41it/s]"
     ]
    },
    {
     "name": "stdout",
     "output_type": "stream",
     "text": [
      "Processando imagens do caractere: X\n"
     ]
    },
    {
     "name": "stderr",
     "output_type": "stream",
     "text": [
      "Processando caracteres:  50%|█████     | 18/36 [00:11<00:12,  1.48it/s]"
     ]
    },
    {
     "name": "stdout",
     "output_type": "stream",
     "text": [
      "Processando imagens do caractere: F\n"
     ]
    },
    {
     "name": "stderr",
     "output_type": "stream",
     "text": [
      "Processando caracteres:  53%|█████▎    | 19/36 [00:12<00:11,  1.49it/s]"
     ]
    },
    {
     "name": "stdout",
     "output_type": "stream",
     "text": [
      "Processando imagens do caractere: P\n"
     ]
    },
    {
     "name": "stderr",
     "output_type": "stream",
     "text": [
      "Processando caracteres:  56%|█████▌    | 20/36 [00:13<00:12,  1.31it/s]"
     ]
    },
    {
     "name": "stdout",
     "output_type": "stream",
     "text": [
      "Processando imagens do caractere: M\n"
     ]
    },
    {
     "name": "stderr",
     "output_type": "stream",
     "text": [
      "Processando caracteres:  58%|█████▊    | 21/36 [00:13<00:10,  1.40it/s]"
     ]
    },
    {
     "name": "stdout",
     "output_type": "stream",
     "text": [
      "Processando imagens do caractere: B\n"
     ]
    },
    {
     "name": "stderr",
     "output_type": "stream",
     "text": [
      "Processando caracteres:  61%|██████    | 22/36 [00:14<00:09,  1.43it/s]"
     ]
    },
    {
     "name": "stdout",
     "output_type": "stream",
     "text": [
      "Processando imagens do caractere: A\n"
     ]
    },
    {
     "name": "stderr",
     "output_type": "stream",
     "text": [
      "Processando caracteres:  64%|██████▍   | 23/36 [00:16<00:12,  1.05it/s]"
     ]
    },
    {
     "name": "stdout",
     "output_type": "stream",
     "text": [
      "Processando imagens do caractere: T\n"
     ]
    },
    {
     "name": "stderr",
     "output_type": "stream",
     "text": [
      "Processando caracteres:  67%|██████▋   | 24/36 [00:16<00:11,  1.08it/s]"
     ]
    },
    {
     "name": "stdout",
     "output_type": "stream",
     "text": [
      "Processando imagens do caractere: 6\n"
     ]
    },
    {
     "name": "stderr",
     "output_type": "stream",
     "text": [
      "Processando caracteres:  69%|██████▉   | 25/36 [00:17<00:09,  1.17it/s]"
     ]
    },
    {
     "name": "stdout",
     "output_type": "stream",
     "text": [
      "Processando imagens do caractere: Y\n"
     ]
    },
    {
     "name": "stderr",
     "output_type": "stream",
     "text": [
      "Processando caracteres:  72%|███████▏  | 26/36 [00:18<00:08,  1.15it/s]"
     ]
    },
    {
     "name": "stdout",
     "output_type": "stream",
     "text": [
      "Processando imagens do caractere: 3\n"
     ]
    }
   ],
   "source": [
    "df_train = create_features_df(train_dir)\n",
    "df_val = create_features_df(val_dir)\n",
    "df_test = create_features_df(test_dir)\n",
    "\n",
    "# X_train = df_train.drop(columns=['label'])\n",
    "# y_train = df_train['label']\n",
    "# X_val = df_val.drop(columns=['label'])\n",
    "# y_val = df_val['label']\n",
    "# X_test = df_test.drop(columns=['label'])\n",
    "# y_test = df_test['label']\n",
    "\n",
    "# model = RandomForestClassifier(n_estimators=100, random_state=42)\n",
    "# model.fit(X_train, y_train)\n",
    "\n",
    "# y_pred_train = model.predict(X_train)\n",
    "# y_pred_val = model.predict(X_val)\n",
    "# y_pred_test = model.predict(X_test)\n",
    "\n",
    "# print(\"Acurácia - Treinamento:\", model.score(X_train, y_train))\n",
    "# print(\"Acurácia - Validação:\", model.score(X_val, y_val))\n",
    "# print(\"Acurácia - Teste:\", model.score(X_test, y_test))\n",
    "\n",
    "# print(\"Relatório de Classificação - Treinamento:\")\n",
    "# print(classification_report(y_train, y_pred_train))\n",
    "# print(\"Relatório de Classificação - Validação:\")\n",
    "# print(classification_report(y_val, y_pred_val))\n",
    "# print(\"Relatório de Classificação - Teste:\")\n",
    "# print(classification_report(y_test, y_pred_test))\n",
    "# cm = confusion_matrix(y_test, y_pred_test)\n",
    "# disp = ConfusionMatrixDisplay(confusion_matrix=cm, display_labels=model.classes_)\n",
    "# disp.plot(cmap=plt.cm.Blues)\n",
    "# plt.title(\"Matriz de Confusão - Teste\")\n",
    "# plt.show()"
   ]
  }
 ],
 "metadata": {
  "kernelspec": {
   "display_name": "Python 3",
   "language": "python",
   "name": "python3"
  },
  "language_info": {
   "codemirror_mode": {
    "name": "ipython",
    "version": 3
   },
   "file_extension": ".py",
   "mimetype": "text/x-python",
   "name": "python",
   "nbconvert_exporter": "python",
   "pygments_lexer": "ipython3",
   "version": "3.12.8"
  }
 },
 "nbformat": 4,
 "nbformat_minor": 5
}
